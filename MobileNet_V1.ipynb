{
  "nbformat": 4,
  "nbformat_minor": 0,
  "metadata": {
    "colab": {
      "provenance": [],
      "toc_visible": true,
      "gpuType": "T4",
      "authorship_tag": "ABX9TyOq7y3LuL2+BVZj/BaCddvx",
      "include_colab_link": true
    },
    "kernelspec": {
      "name": "python3",
      "display_name": "Python 3"
    },
    "language_info": {
      "name": "python"
    },
    "accelerator": "GPU"
  },
  "cells": [
    {
      "cell_type": "markdown",
      "metadata": {
        "id": "view-in-github",
        "colab_type": "text"
      },
      "source": [
        "<a href=\"https://colab.research.google.com/github/linmeimei0512/Education-Training/blob/main/MobileNet_V1.ipynb\" target=\"_parent\"><img src=\"https://colab.research.google.com/assets/colab-badge.svg\" alt=\"Open In Colab\"/></a>"
      ]
    },
    {
      "cell_type": "markdown",
      "source": [
        "# 📜 教育訓練 - 在 PyTorch 建立一個 AI Model"
      ],
      "metadata": {
        "id": "pI_uHlaSwqX-"
      }
    },
    {
      "cell_type": "markdown",
      "source": [
        "## <font color=#FFA500>什麼是 PyTorch ?</font>\n",
        "\n",
        "<font color=#F08080>PyTorch</font> 是 Facebook (Meta Platfroms) 在 2017 年開源的<font color=#F08080>深度學習框架 (DeepLearning Framework)</font>。  \n",
        "因為其語法簡潔、直觀且活用性極大，目前已成為深度學習熱門框架之一。  "
      ],
      "metadata": {
        "id": "fNiI5t1OAEY8"
      }
    },
    {
      "cell_type": "markdown",
      "source": [
        "### 📌 [Tensor](https://pytorch.org/docs/stable/tensors.html)\n",
        "\n",
        "<font color=#F08080>Tensor (torch.Tensor)</font> 是 PyTorch 最基本的元素，是一個多維的陣列。  \n",
        "用法和 NumPy 類似，不過 NumPy 只能在 CPU 上運算，但是 Tensor 可以在 GPU 上運算。  \n",
        "\n",
        "Tensor 定義了很多種資料類型，默認為 torch.FloatTensor。  \n",
        "\n",
        "> <font color=#F08080>💡 這邊要注意，CPU 和 GPU 所使用的類型並不相同，之後大家在使用上要多注意。</font>\n",
        "\n",
        "</br>\n",
        "\n",
        "![](https://drive.google.com/uc?id=1UoYpd25Pf6qlk5Ol_ks7rw9fNKcHs2mM)"
      ],
      "metadata": {
        "id": "YODZXz6HDaLE"
      }
    },
    {
      "cell_type": "markdown",
      "source": [
        "我們來嘗試建立幾個 Tensor 張量吧！  \n",
        "\n",
        "1. 建立一個給 <font color=#F08080>CPU</font> 使用的 Tensor 張量，資料型態為 <font color=#F08080>torch.float32</font>、大小為 <font color=#F08080>2x4</font>、值全為 0"
      ],
      "metadata": {
        "id": "Z6C00QdFiPCP"
      }
    },
    {
      "cell_type": "code",
      "source": [
        "import torch\n",
        "\n",
        "data = torch.zeros([2, 4], dtype=torch.float32)\n",
        "print('data: {}'.format(data))"
      ],
      "metadata": {
        "colab": {
          "base_uri": "https://localhost:8080/"
        },
        "id": "yF1zWzA8gug0",
        "outputId": "4e6c7994-533e-4fcc-c0b5-d895bda01783"
      },
      "execution_count": 2,
      "outputs": [
        {
          "output_type": "stream",
          "name": "stdout",
          "text": [
            "data: tensor([[0., 0., 0., 0.],\n",
            "        [0., 0., 0., 0.]])\n"
          ]
        }
      ]
    },
    {
      "cell_type": "markdown",
      "source": [
        "2. 建立一個給 <font color=#F08080>GPU</font> 使用的 Tensor 張量，資料型態為 <font color=#F08080>torch.float64</font>、大小為 <font color=#F08080>2x4</font>、值全為 1"
      ],
      "metadata": {
        "id": "vSTQBhMajsvY"
      }
    },
    {
      "cell_type": "code",
      "source": [
        "import torch\n",
        "\n",
        "data = torch.ones([2, 4], dtype=torch.float64, device='cuda:0')\n",
        "print('data: {}'.format(data))"
      ],
      "metadata": {
        "id": "-GPQe8d3lIEY",
        "colab": {
          "base_uri": "https://localhost:8080/"
        },
        "outputId": "00c36e1d-96bb-441e-c7f4-4e96c98da634"
      },
      "execution_count": 3,
      "outputs": [
        {
          "output_type": "stream",
          "name": "stdout",
          "text": [
            "data: tensor([[1., 1., 1., 1.],\n",
            "        [1., 1., 1., 1.]], device='cuda:0', dtype=torch.float64)\n"
          ]
        }
      ]
    },
    {
      "cell_type": "markdown",
      "source": [
        "這時候你可能會出現 <font color=#F08080>Found no NVIDIA driver on your system.</font> 的錯誤訊息。  \n",
        "不用太緊張，如果是在 <font color=#F08080>Colab</font> 上執行的話，單純是因為沒有啟用含有 GPU 的主機。  \n",
        "如果是在本地端的 PC 上執行就很有可能是因為 GPU 的 driver 沒有安裝好。\n",
        "\n",
        "</br>\n",
        "\n",
        "![](https://drive.google.com/uc?id=12k3BxTQnV1NAwAB9oZ2poExJ2Bft4tOp)"
      ],
      "metadata": {
        "id": "3TOy6d-5mt-r"
      }
    },
    {
      "cell_type": "markdown",
      "source": [
        "為了必免此錯誤產生，我們通常會加一個判斷，來確保 GPU 可以正常使用"
      ],
      "metadata": {
        "id": "0Qo66Ux9oVtI"
      }
    },
    {
      "cell_type": "code",
      "source": [
        "import torch\n",
        "\n",
        "if not torch.cuda.is_available():\n",
        "  print('GPU is unavailable!')\n",
        "else:\n",
        "  data = torch.ones([2, 4], dtype=torch.float64, device='cuda:0')\n",
        "  print('data: {}'.format(data))"
      ],
      "metadata": {
        "colab": {
          "base_uri": "https://localhost:8080/"
        },
        "id": "JO9SMWY4ndtp",
        "outputId": "9b11b149-1fd8-4c48-e263-4d918370df33"
      },
      "execution_count": 4,
      "outputs": [
        {
          "output_type": "stream",
          "name": "stdout",
          "text": [
            "data: tensor([[1., 1., 1., 1.],\n",
            "        [1., 1., 1., 1.]], device='cuda:0', dtype=torch.float64)\n"
          ]
        }
      ]
    },
    {
      "cell_type": "markdown",
      "source": [
        "### 📌 [nn.Module](https://pytorch.org/docs/stable/generated/torch.nn.Module.html)\n",
        "\n",
        "<font color=#F08080>nn.Module</font> 是 PyTorch 最重要的 class 類別，因為所有的 Model 都是基於 nn.Model 所搭建起來的。  \n",
        "以下是 nn.Module 最重要的兩個 function  \n",
        "1. \\_\\_init\\_\\_(self)  \n",
        "    是 model 初始化的地方，所有的 operator 都會寫在此\n",
        "\n",
        "\n",
        "2. forward(self, x)  \n",
        "    是 model 邏輯運算的地方，x 就是 input 的值"
      ],
      "metadata": {
        "id": "dN5jGtn0sNi-"
      }
    },
    {
      "cell_type": "markdown",
      "source": [
        "讓我們簡單的創建一個 PyTorch model 吧！  \n",
        "\n",
        "因為我們還沒有學任何的 operator 所以在 \\_\\_init\\_\\_ 中就不放任何的 operator。  \n",
        "至於 forward 中我們就先簡單的做個乘法吧。"
      ],
      "metadata": {
        "id": "ogf-OTtN37w0"
      }
    },
    {
      "cell_type": "code",
      "source": [
        "import torch.nn as nn\n",
        "\n",
        "class Model(nn.Module):\n",
        "    def __init__(self):\n",
        "        super().__init__()\n",
        "\n",
        "    def forward(self, x):\n",
        "      return x * x"
      ],
      "metadata": {
        "id": "pDJ0sAqxpgoh"
      },
      "execution_count": 5,
      "outputs": []
    },
    {
      "cell_type": "markdown",
      "source": [
        "實體化一個我們剛剛建立的 model  \n",
        "並且也建立一個值為 2 的 Tensor 張量，當作 model 的 input"
      ],
      "metadata": {
        "id": "q6xFBMud4_CY"
      }
    },
    {
      "cell_type": "code",
      "source": [
        "# create model\n",
        "model = Model()\n",
        "\n",
        "# create tensor\n",
        "input_data = torch.tensor(2.)\n",
        "print('input data: {}'.format(input_data))\n",
        "\n",
        "# calculate\n",
        "output_date = model(input_data)\n",
        "print('output data: {}'.format(output_date))"
      ],
      "metadata": {
        "colab": {
          "base_uri": "https://localhost:8080/"
        },
        "id": "VMSmNu1ruHao",
        "outputId": "4bd0768c-412a-44da-a607-b38469155d30"
      },
      "execution_count": 6,
      "outputs": [
        {
          "output_type": "stream",
          "name": "stdout",
          "text": [
            "input data: 2.0\n",
            "output data: 4.0\n"
          ]
        }
      ]
    },
    {
      "cell_type": "markdown",
      "source": [
        "### 📌 [nn.Conv2d](https://pytorch.org/docs/stable/generated/torch.nn.Conv2d.html)  \n",
        "\n",
        "<font color=#F08080>nn.Conv2d</font> 是在 PyTorch 中的二維卷積  \n",
        "在 PyTorch 官網中有寫到 nn.Conv2d 的算式如下：\n",
        "\n",
        "![](https://drive.google.com/uc?id=1yO0FRB3e3ZgKGvebs9YovBcvmdhFdDbf)\n",
        "\n",
        "看不懂沒關係，這一點都不重要"
      ],
      "metadata": {
        "id": "PhOu8h7s9rYc"
      }
    },
    {
      "cell_type": "markdown",
      "source": [
        "接著我們在官網上也可以看到 nn.Conv2d 所有的 parameters  \n",
        "其中 <font color=#F08080>in_channels</font>、<font color=#F08080>out_channels</font> 和 <font color=#F08080>kernel_size</font> 是一定必要的\n",
        "\n",
        "![](https://drive.google.com/uc?id=1bMUN-tmI66ol_qD2Nm0HqE0gSZ3ilzn-)\n",
        "\n",
        "看不懂也沒關係，之後會再說明"
      ],
      "metadata": {
        "id": "GiF46SUNGklL"
      }
    },
    {
      "cell_type": "markdown",
      "source": [
        "#### 🔥 Convolution\n",
        "\n",
        "我們先來大略說明一下 Convolution 到底是怎麼運作的  "
      ],
      "metadata": {
        "id": "lDvB6nJQIJmn"
      }
    },
    {
      "cell_type": "markdown",
      "source": [
        "要完成一個 Convolution 一定要有 <font color=#F08080>input</font> 和 <font color=#F08080>kernel(卷積核)</font> 這兩個元素  \n",
        "\n",
        "<img width=\"40%\" src=\"https://drive.google.com/uc?id=15acasb-waosdCcJehPW0cy48ZpiJik_g\">\n",
        "</br>\n",
        "</br>\n",
        "\n",
        "大家有可能在其他地方會看到有些人把 kernel 的地方改叫做 <font color=#F08080>filter(過濾器)</font>  \n",
        "其實兩者的關係很簡單，如果一個 convolution 有很多個 kernel 那麼我們就可以把所有的 kernel 當作是一個 filter  \n",
        "<img width=\"50%\" src=\"https://drive.google.com/uc?id=1sj5YELkMFxlxiHeDdC13KENGdhWxLBG7\">\n",
        "</br>\n",
        "</br>\n",
        "\n",
        "從下方的動畫可以很明顯地看到，卷積的運算就是從上到下，從左到右，不停的利用 kernel 和 input 做矩陣的乘積運算\n",
        "\n",
        "<img width=\"60%\" src=\"https://drive.google.com/uc?id=1BKYOoTcCKZxtL_Vl6KRzzCDzLkDVllcp\">"
      ],
      "metadata": {
        "id": "fn378TmOLDHe"
      }
    },
    {
      "cell_type": "markdown",
      "source": [
        "了解 Convolution 後，我們來寫個程式印證一下"
      ],
      "metadata": {
        "id": "stMMM8LnbfNx"
      }
    },
    {
      "cell_type": "code",
      "source": [
        "import torch\n",
        "import torch.nn as nn\n",
        "\n",
        "# input\n",
        "input_data = torch.Tensor(\n",
        "    [[[[0, 0, 80, 80],\n",
        "       [0, 76, 80, 81],\n",
        "       [0, 75, 81, 81],\n",
        "       [0, 0, 80, 82]]]]\n",
        ")\n",
        "print('input data: {}\\n{}'.format(input_data.shape, input_data))\n",
        "\n",
        "# create convolution\n",
        "conv = nn.Conv2d(in_channels=1, out_channels=1, kernel_size=(2, 2))\n",
        "\n",
        "# output\n",
        "output_data = conv(input_data)\n",
        "print('\\noutput data: {}\\n{}'.format(output_data.shape, output_data))"
      ],
      "metadata": {
        "colab": {
          "base_uri": "https://localhost:8080/"
        },
        "id": "tp-vKxbeOzqo",
        "outputId": "649f33d4-0388-49ba-c85a-e772897bbee7"
      },
      "execution_count": 7,
      "outputs": [
        {
          "output_type": "stream",
          "name": "stdout",
          "text": [
            "input data: torch.Size([1, 1, 4, 4])\n",
            "tensor([[[[ 0.,  0., 80., 80.],\n",
            "          [ 0., 76., 80., 81.],\n",
            "          [ 0., 75., 81., 81.],\n",
            "          [ 0.,  0., 80., 82.]]]])\n",
            "\n",
            "output data: torch.Size([1, 1, 3, 3])\n",
            "tensor([[[[ 16.3052,  18.1751,  10.4671],\n",
            "          [-14.1422,   8.7883,  10.5016],\n",
            "          [-29.6135, -24.1190,  10.1603]]]], grad_fn=<ConvolutionBackward0>)\n"
          ]
        }
      ]
    },
    {
      "cell_type": "markdown",
      "source": [
        "這時候會發現為什麼在 nn.Conv2d 我們只能設定 kernel_size 而無法指定 kernel 的值呢？  \n",
        "而且 output 的值跟我們算的完全不一樣\n",
        "\n",
        "因為 convolution 的 kernel 應該是隨機或是常態分佈的值，因此通常我們不會設定 kernel 真實的值  \n",
        "不過沒關係，PyTorch 留了另一個 nn.functional.conv2d 來讓我們可以自訂 kernel 值"
      ],
      "metadata": {
        "id": "l52-G3GV-D7n"
      }
    },
    {
      "cell_type": "code",
      "source": [
        "import torch\n",
        "import torch.nn.functional as F\n",
        "\n",
        "# input\n",
        "input_data = torch.Tensor(\n",
        "    [[[[0, 0, 80, 80],\n",
        "      [0, 76, 80, 81],\n",
        "      [0, 75, 81, 81],\n",
        "      [0, 0, 80, 82]]]]\n",
        ")\n",
        "print('input data: {}\\n{}'.format(input_data.shape, input_data))\n",
        "\n",
        "# kernel\n",
        "kernel = torch.Tensor(\n",
        "    [[[[-1, 0],\n",
        "      [-1, 1]]]]\n",
        ")\n",
        "print('\\nkernel: {}\\n{}'.format(kernel.shape, kernel))\n",
        "\n",
        "# output\n",
        "output_data = F.conv2d(input=input_data, weight=kernel)\n",
        "print('\\noutput data: {}\\n{}'.format(output_data.shape, output_data))"
      ],
      "metadata": {
        "colab": {
          "base_uri": "https://localhost:8080/"
        },
        "id": "W5qREIGoSIIo",
        "outputId": "72eba2eb-1ee1-453e-b997-a2fe54afd92a"
      },
      "execution_count": 8,
      "outputs": [
        {
          "output_type": "stream",
          "name": "stdout",
          "text": [
            "input data: torch.Size([1, 1, 4, 4])\n",
            "tensor([[[[ 0.,  0., 80., 80.],\n",
            "          [ 0., 76., 80., 81.],\n",
            "          [ 0., 75., 81., 81.],\n",
            "          [ 0.,  0., 80., 82.]]]])\n",
            "\n",
            "kernel: torch.Size([1, 1, 2, 2])\n",
            "tensor([[[[-1.,  0.],\n",
            "          [-1.,  1.]]]])\n",
            "\n",
            "output data: torch.Size([1, 1, 3, 3])\n",
            "tensor([[[[ 76.,   4., -79.],\n",
            "          [ 75., -70., -80.],\n",
            "          [  0.,   5., -79.]]]])\n"
          ]
        }
      ]
    },
    {
      "cell_type": "markdown",
      "source": [
        "#### 🔥 RGB\n",
        "\n",
        "通常 convolution 的 input 不太可能是 1 個 channel  \n",
        "convolution 最常使用在圖像識別，而一個像素是利用 RGB 三個值構成  \n",
        "因此一開始的 input 的 channel 一定是 3\n",
        "\n",
        "那麼多 channel 的 convolution 該如何運算呢？  \n",
        "我們利用 3 channels 來解釋  \n",
        "\n",
        "根據下方的動畫我們可以清楚地看到，每個 channel 是先分開跟個別的 kenrel 做乘積  \n",
        "因此這邊我們可以知道 <font color=#F08080>kernel 的 channel 個數必須和 input 相同</font>  \n",
        "個別做完乘機後，再把相同位置的值相加\n",
        "\n",
        "<img width=\"70%\" src=\"https://drive.google.com/uc?id=1hzHRJ1qMmS6YUDIcg6vI5OT1QYC50Mtc\">"
      ],
      "metadata": {
        "id": "UAh2_1UNKN0s"
      }
    },
    {
      "cell_type": "markdown",
      "source": [
        "寫個程式印證一下"
      ],
      "metadata": {
        "id": "G9O2O5Bfjsgy"
      }
    },
    {
      "cell_type": "code",
      "source": [
        "import torch\n",
        "import torch.nn.functional as F\n",
        "\n",
        "# input\n",
        "input_data = torch.Tensor(\n",
        "    [[[[0, 0, 80, 80],\n",
        "       [0, 76, 80, 81],\n",
        "       [0, 75, 81, 81],\n",
        "       [0, 0, 80, 82]],\n",
        "      [[0, 0, 80, 80],\n",
        "       [0, 76, 80, 81],\n",
        "       [0, 75, 81, 81],\n",
        "       [0, 0, 80, 82]],\n",
        "      [[0, 0, 80, 80],\n",
        "       [0, 76, 80, 81],\n",
        "       [0, 75, 81, 81],\n",
        "       [0, 0, 80, 82]]]]\n",
        ")\n",
        "print('input data: {}\\n{}'.format(input_data.shape, input_data))\n",
        "\n",
        "# kernel\n",
        "kernel = torch.Tensor(\n",
        "    [[[[-1, 0, 0],\n",
        "       [-1, 1, 1],\n",
        "       [0, 0, 1]],\n",
        "      [[-1, 0, 0],\n",
        "       [-1, 1, 1],\n",
        "       [0, 0, 1]],\n",
        "      [[-1, 0, 0],\n",
        "       [-1, 1, 1],\n",
        "       [0, 0, 1]]]]\n",
        ")\n",
        "print('\\nkernel: {}\\n{}'.format(kernel.shape, kernel))\n",
        "\n",
        "# output\n",
        "output_data = F.conv2d(input=input_data, weight=kernel)\n",
        "print('\\noutput data: {}\\n{}'.format(output_data.shape, output_data))"
      ],
      "metadata": {
        "colab": {
          "base_uri": "https://localhost:8080/"
        },
        "id": "f0t9no4oKQ_r",
        "outputId": "04ace1fa-b12e-4f30-fdbf-43e8ac996f41"
      },
      "execution_count": 9,
      "outputs": [
        {
          "output_type": "stream",
          "name": "stdout",
          "text": [
            "input data: torch.Size([1, 3, 4, 4])\n",
            "tensor([[[[ 0.,  0., 80., 80.],\n",
            "          [ 0., 76., 80., 81.],\n",
            "          [ 0., 75., 81., 81.],\n",
            "          [ 0.,  0., 80., 82.]],\n",
            "\n",
            "         [[ 0.,  0., 80., 80.],\n",
            "          [ 0., 76., 80., 81.],\n",
            "          [ 0., 75., 81., 81.],\n",
            "          [ 0.,  0., 80., 82.]],\n",
            "\n",
            "         [[ 0.,  0., 80., 80.],\n",
            "          [ 0., 76., 80., 81.],\n",
            "          [ 0., 75., 81., 81.],\n",
            "          [ 0.,  0., 80., 82.]]]])\n",
            "\n",
            "kernel: torch.Size([1, 3, 3, 3])\n",
            "tensor([[[[-1.,  0.,  0.],\n",
            "          [-1.,  1.,  1.],\n",
            "          [ 0.,  0.,  1.]],\n",
            "\n",
            "         [[-1.,  0.,  0.],\n",
            "          [-1.,  1.,  1.],\n",
            "          [ 0.,  0.,  1.]],\n",
            "\n",
            "         [[-1.,  0.,  0.],\n",
            "          [-1.,  1.,  1.],\n",
            "          [ 0.,  0.,  1.]]]])\n",
            "\n",
            "output data: torch.Size([1, 1, 2, 2])\n",
            "tensor([[[[711., 498.],\n",
            "          [708., 279.]]]])\n"
          ]
        }
      ]
    },
    {
      "cell_type": "markdown",
      "source": [
        "#### 🔥 Stride\n",
        "\n",
        "<font color=#F08080>Stride</font> 代表 kernel <font color=#F08080>上下左右移動的步長</font>，PyTorch 預設的 stride 是 1  \n",
        "我們可以設定 stride 來減少 output 的資料量  \n",
        "如果我們設定為 2，那麼 kernel 每次會移動 2 個 pixel，如下圖\n",
        "\n",
        "<img width=\"60%\" src=\"https://drive.google.com/uc?id=1-NFGCEWE64Jlz-v3ft6E2hQsUEQnMynE\">"
      ],
      "metadata": {
        "id": "-mSjZ3EFVeGo"
      }
    },
    {
      "cell_type": "markdown",
      "source": [
        "一樣我們來用程式驗證一下"
      ],
      "metadata": {
        "id": "9nCCU999gFuE"
      }
    },
    {
      "cell_type": "code",
      "source": [
        "import torch\n",
        "import torch.nn.functional as F\n",
        "\n",
        "# input\n",
        "input_data = torch.Tensor(\n",
        "    [[[[0, 0, 80, 80],\n",
        "      [0, 76, 80, 81],\n",
        "      [0, 75, 81, 81],\n",
        "      [0, 0, 80, 82]]]]\n",
        ")\n",
        "print('input data: {}\\n{}'.format(input_data.shape, input_data))\n",
        "\n",
        "# kernel\n",
        "kernel = torch.Tensor(\n",
        "    [[[[-1, 0],\n",
        "      [-1, 1]]]]\n",
        ")\n",
        "print('\\nkernel: {}\\n{}'.format(kernel.shape, kernel))\n",
        "\n",
        "# output\n",
        "output_data = F.conv2d(input=input_data, weight=kernel, stride=2)\n",
        "print('\\noutput data: {}\\n{}'.format(output_data.shape, output_data))"
      ],
      "metadata": {
        "colab": {
          "base_uri": "https://localhost:8080/"
        },
        "id": "3PcQNomdgE_d",
        "outputId": "91d4cc64-28f1-4603-9288-1d21da3f7ffd"
      },
      "execution_count": 10,
      "outputs": [
        {
          "output_type": "stream",
          "name": "stdout",
          "text": [
            "input data: torch.Size([1, 1, 4, 4])\n",
            "tensor([[[[ 0.,  0., 80., 80.],\n",
            "          [ 0., 76., 80., 81.],\n",
            "          [ 0., 75., 81., 81.],\n",
            "          [ 0.,  0., 80., 82.]]]])\n",
            "\n",
            "kernel: torch.Size([1, 1, 2, 2])\n",
            "tensor([[[[-1.,  0.],\n",
            "          [-1.,  1.]]]])\n",
            "\n",
            "output data: torch.Size([1, 1, 2, 2])\n",
            "tensor([[[[ 76., -79.],\n",
            "          [  0., -79.]]]])\n"
          ]
        }
      ]
    },
    {
      "cell_type": "markdown",
      "source": [
        "#### 🔥 Padding\n",
        "\n",
        "<font color=#F08080>Padding</font> 代表在 input 的<font color=#F08080>上下左右填充</font>一定的值  \n",
        "例如下圖，是 padding = 1 的結果\n",
        "\n",
        "<img width=\"60%\" src=\"https://drive.google.com/uc?id=1R_SrFHVpEjnwtNhSRmRLj8Pe5QWC2E7a\">"
      ],
      "metadata": {
        "id": "UTH1S_2GzrKP"
      }
    },
    {
      "cell_type": "markdown",
      "source": [
        "至於 padding 要填什麼值呢？  \n",
        "通常都是填充 0, PyTorch 預設也是填充 0  \n",
        "如果要設定填充的值可以利用 <font color=#F08080>padding_mode</font> 參數來設定  \n",
        "\n",
        "下面的動畫是 padding = 1 的卷積計算\n",
        "\n",
        "<img width=\"60%\" src=\"https://drive.google.com/uc?id=1XaTy54BY6zIIYmeC9f7WELFsJ7cu2kF1\">"
      ],
      "metadata": {
        "id": "2GPP0qYPYeMF"
      }
    },
    {
      "cell_type": "markdown",
      "source": [
        "最後我們一樣利用程式來驗證一下  "
      ],
      "metadata": {
        "id": "K7EIrdccY6VM"
      }
    },
    {
      "cell_type": "code",
      "source": [
        "import torch\n",
        "import torch.nn.functional as F\n",
        "\n",
        "# input\n",
        "input_data = torch.Tensor(\n",
        "    [[[[0, 0, 80, 80],\n",
        "      [0, 76, 80, 81],\n",
        "      [0, 75, 81, 81],\n",
        "      [0, 0, 80, 82]]]]\n",
        ")\n",
        "print('input data: {}\\n{}'.format(input_data.shape, input_data))\n",
        "\n",
        "# kernel\n",
        "kernel = torch.Tensor(\n",
        "    [[[[-1, 0, 0, 0],\n",
        "       [-1, 1, 1, 1],\n",
        "       [0, 1, 1, 0],\n",
        "       [0, 0, 0, 1]]]]\n",
        ")\n",
        "print('\\nkernel: {}\\n{}'.format(kernel.shape, kernel))\n",
        "\n",
        "# output\n",
        "output_data = F.conv2d(input=input_data, weight=kernel, padding=1)\n",
        "print('\\noutput data: {}\\n{}'.format(output_data.shape, output_data))"
      ],
      "metadata": {
        "colab": {
          "base_uri": "https://localhost:8080/"
        },
        "id": "5DU-hh8JmFhy",
        "outputId": "6b92f8a1-692d-4ccd-bac8-51049e4e8bcb"
      },
      "execution_count": 11,
      "outputs": [
        {
          "output_type": "stream",
          "name": "stdout",
          "text": [
            "input data: torch.Size([1, 1, 4, 4])\n",
            "tensor([[[[ 0.,  0., 80., 80.],\n",
            "          [ 0., 76., 80., 81.],\n",
            "          [ 0., 75., 81., 81.],\n",
            "          [ 0.,  0., 80., 82.]]]])\n",
            "\n",
            "kernel: torch.Size([1, 1, 4, 4])\n",
            "tensor([[[[-1.,  0.,  0.,  0.],\n",
            "          [-1.,  1.,  1.,  1.],\n",
            "          [ 0.,  1.,  1.,  0.],\n",
            "          [ 0.,  0.,  0.,  1.]]]])\n",
            "\n",
            "output data: torch.Size([1, 1, 3, 3])\n",
            "tensor([[[[237., 397., 321.],\n",
            "          [311., 475., 247.],\n",
            "          [156., 317., 173.]]]])\n"
          ]
        }
      ]
    },
    {
      "cell_type": "markdown",
      "source": [
        "#### 🔥 Bias\n",
        "在 PyTorch 中很多 operator 中都會有一個 bias 參數可以設定  \n",
        "他是一個 boolean 值，預設是 True  \n",
        "他代表這個 <font color=#F08080>operator 的偏置向量</font>，簡單來說就是對於這個 operator 的<font color=#F08080>激活狀態</font>控制"
      ],
      "metadata": {
        "id": "Zs_GlZGycb6C"
      }
    },
    {
      "cell_type": "code",
      "source": [
        "import torch.nn as nn\n",
        "\n",
        "# create convolution\n",
        "conv = nn.Conv2d(in_channels=1, out_channels=1, kernel_size=(2, 2))\n",
        "print(conv)\n",
        "\n",
        "conv = nn.Conv2d(in_channels=1, out_channels=1, kernel_size=(2, 2), bias=False)\n",
        "print(conv)"
      ],
      "metadata": {
        "colab": {
          "base_uri": "https://localhost:8080/"
        },
        "id": "y6ZMS8JieS5p",
        "outputId": "afc0fd1a-111c-4e91-e43b-864105430bfc"
      },
      "execution_count": 12,
      "outputs": [
        {
          "output_type": "stream",
          "name": "stdout",
          "text": [
            "Conv2d(1, 1, kernel_size=(2, 2), stride=(1, 1))\n",
            "Conv2d(1, 1, kernel_size=(2, 2), stride=(1, 1), bias=False)\n"
          ]
        }
      ]
    },
    {
      "cell_type": "markdown",
      "source": [
        "### 📌 [nn.Sequential](https://pytorch.org/docs/stable/generated/torch.nn.Sequential.html)\n",
        "\n",
        "<font color=#F08080>nn.Sequential</font> 是 nn.Module 的容器，我們可以將<font color=#F08080>多個 Module 利用 Sequentail 打包再一起</font>  \n",
        "\n",
        "我們來嘗試利用 Sequntail 來打包兩個 nn.Linear"
      ],
      "metadata": {
        "id": "yJUeRsIU9J3h"
      }
    },
    {
      "cell_type": "code",
      "source": [
        "import torch\n",
        "import torch.nn as nn\n",
        "\n",
        "class Model(nn.Module):\n",
        "  def __init__(self):\n",
        "    super().__init__()\n",
        "\n",
        "    self.node = nn.Sequential(\n",
        "        nn.Linear(10, 8),\n",
        "        nn.Linear(8, 2)\n",
        "    )\n",
        "\n",
        "  def forward(self, x):\n",
        "    return self.node(x)"
      ],
      "metadata": {
        "id": "SJe-nTsPjz7f"
      },
      "execution_count": 13,
      "outputs": []
    },
    {
      "cell_type": "code",
      "source": [
        "# create model\n",
        "model = Model()\n",
        "print(model)\n",
        "\n",
        "# create randen input data\n",
        "input_data = torch.randn(2, 10)\n",
        "print(f'\\ninput data: \\n{input_data}')\n",
        "\n",
        "# output\n",
        "output_data = model(input_data)\n",
        "print(f'\\noutput data: \\n{output_data}')"
      ],
      "metadata": {
        "colab": {
          "base_uri": "https://localhost:8080/"
        },
        "id": "Eys2GYzEkare",
        "outputId": "59d08646-516f-4a5b-c425-45e0cc157334"
      },
      "execution_count": 14,
      "outputs": [
        {
          "output_type": "stream",
          "name": "stdout",
          "text": [
            "Model(\n",
            "  (node): Sequential(\n",
            "    (0): Linear(in_features=10, out_features=8, bias=True)\n",
            "    (1): Linear(in_features=8, out_features=2, bias=True)\n",
            "  )\n",
            ")\n",
            "\n",
            "input data: \n",
            "tensor([[-1.0974,  0.2018, -0.7784, -0.6486, -1.3221,  0.4280,  0.4349,  2.0677,\n",
            "          0.0399,  0.0418],\n",
            "        [-0.1501, -0.1487,  0.6216, -0.0336, -1.1629,  0.9153,  0.2057,  0.4506,\n",
            "          0.5552, -0.7302]])\n",
            "\n",
            "output data: \n",
            "tensor([[-0.7209, -0.5362],\n",
            "        [-0.1436, -0.3724]], grad_fn=<AddmmBackward0>)\n"
          ]
        }
      ]
    },
    {
      "cell_type": "markdown",
      "source": [
        "### 📌 [nn.AvgPool2d](https://pytorch.org/docs/stable/generated/torch.nn.AvgPool2d.html)\n",
        "\n",
        "<font color=#F08080>平均池化層</font>，主要用途就是將 input 做平均池化的計算  \n",
        "在官網上我們一樣可以看到 nn.AvgPool2d 的所有輸入參數  \n",
        "其中 <font color=#F08080>kernel_size</font> 是必要參數  \n",
        "不過要注意的是 <font color=#F08080>stride 的 default 值是 kernel_size 的大小！</font>\n",
        "\n",
        "<img width=\"60%\" src=\"https://drive.google.com/uc?id=15Vm1gLz8OkU46OwaK5ZCX-b_P4wWqiW1\">\n"
      ],
      "metadata": {
        "id": "zOD9JF5H-pdP"
      }
    },
    {
      "cell_type": "markdown",
      "source": [
        "舉個例子，我們的 input size 為 3x3，kernel size 設定為 2x2，stride 設定為 1  \n",
        "那麼 AvgPool2d 計算過程會如下圖\n",
        "\n",
        "<img width=\"40%\" src=\"https://drive.google.com/uc?id=1pDwekIaZmTa6Q8HTTI-U42uAfax9ufqz\">\n"
      ],
      "metadata": {
        "id": "ymOhTXiZGYzL"
      }
    },
    {
      "cell_type": "markdown",
      "source": [
        "利用程式來驗證一下"
      ],
      "metadata": {
        "id": "BLl75LrZdmhh"
      }
    },
    {
      "cell_type": "code",
      "source": [
        "import torch\n",
        "import torch.nn as nn\n",
        "\n",
        "# input\n",
        "input_data = torch.Tensor(\n",
        "    [[[1, 0, 80],\n",
        "      [0, 79, 81],\n",
        "      [5, 0, 84]]]\n",
        ")\n",
        "print('input data: {}\\n{}'.format(input_data.shape, input_data))\n",
        "\n",
        "# create average pool\n",
        "avg_pool = nn.AvgPool2d(kernel_size=2, stride=1)\n",
        "\n",
        "# output\n",
        "output_data = avg_pool(input_data)\n",
        "print(f'\\noutput data: {output_data.shape}\\n{output_data}')"
      ],
      "metadata": {
        "colab": {
          "base_uri": "https://localhost:8080/"
        },
        "id": "rUeoBTHBGYKx",
        "outputId": "f1306fa0-a618-4630-ff07-22e55f94ce10"
      },
      "execution_count": 15,
      "outputs": [
        {
          "output_type": "stream",
          "name": "stdout",
          "text": [
            "input data: torch.Size([1, 3, 3])\n",
            "tensor([[[ 1.,  0., 80.],\n",
            "         [ 0., 79., 81.],\n",
            "         [ 5.,  0., 84.]]])\n",
            "\n",
            "output data: torch.Size([1, 2, 2])\n",
            "tensor([[[20., 60.],\n",
            "         [21., 61.]]])\n"
          ]
        }
      ]
    },
    {
      "cell_type": "markdown",
      "source": [
        "### 📌 [nn.Linear](https://pytorch.org/docs/stable/generated/torch.nn.Linear.html)\n",
        "\n",
        "Linear 所需的參數如下  \n",
        "<font color=#F08080>in_feature</font> 和 <font color=#F08080>out_feature</font> 是必須參數\n",
        "\n",
        "<img width=\"60%\" src=\"https://drive.google.com/uc?id=1YY9yh1Q77ilxxyh3rQRMYUxmsad0JDKD\">\n",
        "\n"
      ],
      "metadata": {
        "id": "7uV4OzP2Cm8Q"
      }
    },
    {
      "cell_type": "markdown",
      "source": [
        "## <font color=#FFA500>MobileNet v1</font>\n",
        "\n",
        "[Paper](https://arxiv.org/pdf/1704.04861.pdf) 在這邊大家有興趣可以去閱讀一下  "
      ],
      "metadata": {
        "id": "jHwRy1WUnRwT"
      }
    },
    {
      "cell_type": "markdown",
      "source": [
        "### <font color=#FF3030>📌 Depthwise Separable Convolution</font>\n",
        "\n",
        "在 paper 中我們可以看到，MobileNet v1 團隊將傳統的 convolution 改成 <font color=#F08080>depthwise separable convolution(深度可分離卷積)</font> 簡稱 <font color=#F08080>DWS Convoution</font>  \n",
        "\n",
        "<img width=\"40%\" src=\"https://drive.google.com/uc?id=1dLnpPSpe_E1q4Mrvr55zRQKkMqrJWJJf\">\n",
        "\n",
        "至於 depthwise separable convolution 是什麼呢？這邊我們大略的說明一下  "
      ],
      "metadata": {
        "id": "SOJ4IAMooH56"
      }
    },
    {
      "cell_type": "markdown",
      "source": [
        "DWS Convolution 最主要的用途就是減少傳統 convolution 的計算量  \n",
        "\n",
        "假設 input channel = 3，filter 共有 4 個 kernel  \n",
        "傳統的 convolution 的計算流程會如下圖  \n",
        "\n",
        "<img width=\"60%\" src=\"https://drive.google.com/uc?id=1gPMnvfMHaGTgi-JFPRPj-x3DUUE_8xBi\">"
      ],
      "metadata": {
        "id": "40p6F6PQoPTD"
      }
    },
    {
      "cell_type": "markdown",
      "source": [
        "根據上方流程我們可以算出傳統的 convolution 的參數量為 <font color=#F08080>((3x3)x3)x4 = 108</font>\n"
      ],
      "metadata": {
        "id": "TLHOMwcLTXU4"
      }
    },
    {
      "cell_type": "markdown",
      "source": [
        "Depthwise separable convolution 分為兩個步驟，分別是 <font color=#F08080>depthwise convolution</font> 和 <font color=#F08080>pointwise convolution</font>"
      ],
      "metadata": {
        "id": "uVq0ehMmUAhk"
      }
    },
    {
      "cell_type": "markdown",
      "source": [
        "#### 🔥 Depthwise Convolution\n",
        "\n",
        "<font color=#F08080>Depthwise convolution</font> 會把 input 的每個 channel 拆分為一個 <font color=#F08080>group</font>  \n",
        "每個 group 分別用一個 channel = 1 的 kernel 做 convolution  \n",
        "最後再把所有的 feature map 做合併  \n",
        "如下圖\n",
        "\n",
        "<img width=\"60%\" src=\"https://drive.google.com/uc?id=1GETf10z4G0NnHl6Tri7jKJSyOyLoPWJz\">"
      ],
      "metadata": {
        "id": "IqalpjyyUgqf"
      }
    },
    {
      "cell_type": "markdown",
      "source": [
        "#### 🔥 Pointwise Convolution\n",
        "\n",
        "<font color=#F08080>Pointwise convolution</font> 則是利用 1x1 的 kernel 來做 convolution  \n",
        "至於要用多少個 kernel 來組成 filter 呢？  \n",
        "那就看 output 要輸出多少 channel，這邊我們需要輸出的 channel 為 4，因此需要 4 個 kernel  \n",
        "如下圖\n",
        "\n",
        "<img width=\"60%\" src=\"https://drive.google.com/uc?id=1KmVFXMNoy1AHm-0RuiMYaMMS6dzJdmhY\">"
      ],
      "metadata": {
        "id": "wWWNm58RcipA"
      }
    },
    {
      "cell_type": "markdown",
      "source": [
        "#### 🔥 Depthwise Separable Convolution\n",
        "\n",
        "將 depthwise convolution 加上 pointwise convolution 就是完整的 depthwise separable convolution  \n",
        "\n",
        "<img width=\"100%\" src=\"https://drive.google.com/uc?id=1pojs7dCR4ckcGx6iEJj3B9I4FAHvcp_C\">"
      ],
      "metadata": {
        "id": "piVPHFs_gGJR"
      }
    },
    {
      "cell_type": "markdown",
      "source": [
        "根據上圖我們可以算出 depthwise separable convolution 的參數量為 <font color=#F08080>(3x3)x3 + ((1x1)x3)x4 = 39</font>  \n",
        "<font color=#F08080>比傳統的 convolution 少將近快 3 倍之多</font>"
      ],
      "metadata": {
        "id": "eQwesTRrlT5o"
      }
    },
    {
      "cell_type": "markdown",
      "source": [
        "### <font color=#FF3030>📌 Create MobileNet v1</font>"
      ],
      "metadata": {
        "id": "BI_7eI4GnneO"
      }
    },
    {
      "cell_type": "markdown",
      "source": [
        "#### 🔥 Initialize PyTorch Device\n",
        "\n",
        "在 PyTorch 中可以很輕鬆的選擇要使用 <font color=#F08080>CPU</font> 還是 <font color=#F08080>GPU</font>  \n",
        "這邊我們自動偵測是否有 GPU 可使用來初始化 device"
      ],
      "metadata": {
        "id": "Q1Lib4l6v56z"
      }
    },
    {
      "cell_type": "code",
      "source": [
        "import torch\n",
        "\n",
        "device = torch.device(\"cuda:0\" if torch.cuda.is_available() else \"cpu\")\n",
        "print('device: {}'.format(device))"
      ],
      "metadata": {
        "colab": {
          "base_uri": "https://localhost:8080/"
        },
        "id": "L0dxOnFuv4yY",
        "outputId": "0ca8c474-bdf9-4f2c-d676-5c0efd7b9ebe"
      },
      "execution_count": 16,
      "outputs": [
        {
          "output_type": "stream",
          "name": "stdout",
          "text": [
            "device: cuda:0\n"
          ]
        }
      ]
    },
    {
      "cell_type": "markdown",
      "source": [
        "#### 🔥 Standard Convolution Block\n",
        "\n",
        "MobileNet v1 中並非全部都使用 DWS Convolution  \n",
        "在一開始的時候使用 standard convolution 來開頭的  \n",
        "因此我們必須創建一個 standard convolution 模塊  "
      ],
      "metadata": {
        "id": "nPwmJ2FutSru"
      }
    },
    {
      "cell_type": "code",
      "source": [
        "import torch.nn as nn\n",
        "\n",
        "class StandardConv(nn.Module):\n",
        "  def __init__(self, in_channels, out_channels, stride=1):\n",
        "    super().__init__()\n",
        "\n",
        "    self.conv = nn.Sequential(\n",
        "        nn.Conv2d(in_channels=in_channels,\n",
        "                  out_channels=out_channels,\n",
        "                  kernel_size=3,\n",
        "                  stride=stride,\n",
        "                  padding=1,\n",
        "                  bias=False),\n",
        "        nn.BatchNorm2d(out_channels),\n",
        "        nn.ReLU(inplace=True)\n",
        "    )\n",
        "\n",
        "  def forward(self, x):\n",
        "    return self.conv(x)"
      ],
      "metadata": {
        "id": "wP-NgMDit5ys"
      },
      "execution_count": 17,
      "outputs": []
    },
    {
      "cell_type": "code",
      "source": [
        "import torch\n",
        "from torchsummary import summary\n",
        "\n",
        "model = StandardConv(in_channels=3, out_channels=32, stride=2)\n",
        "model.to(device)\n",
        "print(model)\n",
        "summary(model, input_size=(3, 224, 224))"
      ],
      "metadata": {
        "colab": {
          "base_uri": "https://localhost:8080/"
        },
        "id": "NRhVLxgtuR4E",
        "outputId": "45aa858d-73ba-49a2-847e-2e9fb9f5e91c"
      },
      "execution_count": 18,
      "outputs": [
        {
          "output_type": "stream",
          "name": "stdout",
          "text": [
            "StandardConv(\n",
            "  (conv): Sequential(\n",
            "    (0): Conv2d(3, 32, kernel_size=(3, 3), stride=(2, 2), padding=(1, 1), bias=False)\n",
            "    (1): BatchNorm2d(32, eps=1e-05, momentum=0.1, affine=True, track_running_stats=True)\n",
            "    (2): ReLU(inplace=True)\n",
            "  )\n",
            ")\n",
            "----------------------------------------------------------------\n",
            "        Layer (type)               Output Shape         Param #\n",
            "================================================================\n",
            "            Conv2d-1         [-1, 32, 112, 112]             864\n",
            "       BatchNorm2d-2         [-1, 32, 112, 112]              64\n",
            "              ReLU-3         [-1, 32, 112, 112]               0\n",
            "================================================================\n",
            "Total params: 928\n",
            "Trainable params: 928\n",
            "Non-trainable params: 0\n",
            "----------------------------------------------------------------\n",
            "Input size (MB): 0.57\n",
            "Forward/backward pass size (MB): 9.19\n",
            "Params size (MB): 0.00\n",
            "Estimated Total Size (MB): 9.77\n",
            "----------------------------------------------------------------\n"
          ]
        }
      ]
    },
    {
      "cell_type": "markdown",
      "source": [
        "#### 🔥 Depthwise Separable Convolution Block\n",
        "\n",
        "這邊我們先利用 paper 中的附圖來創建 DWS Convloution 模塊  \n",
        "\n",
        "<img width=\"40%\" src=\"https://drive.google.com/uc?id=1dLnpPSpe_E1q4Mrvr55zRQKkMqrJWJJf\">"
      ],
      "metadata": {
        "id": "sySdS5tQoJVv"
      }
    },
    {
      "cell_type": "code",
      "source": [
        "import torch.nn as nn\n",
        "\n",
        "class DepthwiseSeparableConv(nn.Module):\n",
        "  def __init__(self, in_channels, out_channels, stride=1):\n",
        "    super().__init__()\n",
        "\n",
        "    '''\n",
        "    depthwise convolution\n",
        "    '''\n",
        "    self.depthwise_conv = nn.Sequential(\n",
        "        nn.Conv2d(in_channels=in_channels,\n",
        "                  out_channels=in_channels,\n",
        "                  kernel_size=3,\n",
        "                  stride=stride,\n",
        "                  padding=1,\n",
        "                  groups=in_channels,\n",
        "                  bias=False),\n",
        "        nn.BatchNorm2d(in_channels),\n",
        "        nn.ReLU(inplace=True)\n",
        "    )\n",
        "\n",
        "    '''\n",
        "    pointwise convolution\n",
        "    '''\n",
        "    self.pointwise_conv = nn.Sequential(\n",
        "        nn.Conv2d(in_channels=in_channels,\n",
        "                  out_channels=out_channels,\n",
        "                  kernel_size=1,\n",
        "                  stride=1,\n",
        "                  padding=0,\n",
        "                  bias=False),\n",
        "        nn.BatchNorm2d(out_channels),\n",
        "        nn.ReLU(inplace=True)\n",
        "    )\n",
        "\n",
        "  def forward(self, x):\n",
        "    x = self.depthwise_conv(x)\n",
        "    return self.pointwise_conv(x)\n"
      ],
      "metadata": {
        "id": "xb5MCQWFpXg0"
      },
      "execution_count": 19,
      "outputs": []
    },
    {
      "cell_type": "code",
      "source": [
        "from torchsummary import summary\n",
        "\n",
        "model = DepthwiseSeparableConv(in_channels=3, out_channels=4, stride=2)\n",
        "model.to(device)\n",
        "print(model)\n",
        "summary(model, input_size=(3, 224, 224))"
      ],
      "metadata": {
        "colab": {
          "base_uri": "https://localhost:8080/"
        },
        "id": "74IDhT1-n_cA",
        "outputId": "ff6f3151-639b-47c6-98c5-cc4d3bc28821"
      },
      "execution_count": 20,
      "outputs": [
        {
          "output_type": "stream",
          "name": "stdout",
          "text": [
            "DepthwiseSeparableConv(\n",
            "  (depthwise_conv): Sequential(\n",
            "    (0): Conv2d(3, 3, kernel_size=(3, 3), stride=(2, 2), padding=(1, 1), groups=3, bias=False)\n",
            "    (1): BatchNorm2d(3, eps=1e-05, momentum=0.1, affine=True, track_running_stats=True)\n",
            "    (2): ReLU(inplace=True)\n",
            "  )\n",
            "  (pointwise_conv): Sequential(\n",
            "    (0): Conv2d(3, 4, kernel_size=(1, 1), stride=(1, 1), bias=False)\n",
            "    (1): BatchNorm2d(4, eps=1e-05, momentum=0.1, affine=True, track_running_stats=True)\n",
            "    (2): ReLU(inplace=True)\n",
            "  )\n",
            ")\n",
            "----------------------------------------------------------------\n",
            "        Layer (type)               Output Shape         Param #\n",
            "================================================================\n",
            "            Conv2d-1          [-1, 3, 112, 112]              27\n",
            "       BatchNorm2d-2          [-1, 3, 112, 112]               6\n",
            "              ReLU-3          [-1, 3, 112, 112]               0\n",
            "            Conv2d-4          [-1, 4, 112, 112]              12\n",
            "       BatchNorm2d-5          [-1, 4, 112, 112]               8\n",
            "              ReLU-6          [-1, 4, 112, 112]               0\n",
            "================================================================\n",
            "Total params: 53\n",
            "Trainable params: 53\n",
            "Non-trainable params: 0\n",
            "----------------------------------------------------------------\n",
            "Input size (MB): 0.57\n",
            "Forward/backward pass size (MB): 2.01\n",
            "Params size (MB): 0.00\n",
            "Estimated Total Size (MB): 2.58\n",
            "----------------------------------------------------------------\n"
          ]
        }
      ]
    },
    {
      "cell_type": "markdown",
      "source": [
        "#### 🔥 MobileNet v1\n",
        "\n",
        "根據 paper 中的 MobileNet v1 架構圖，我們可以如法炮製的建立一個 MobileNet v1  \n",
        "> <font color=#F08080>💡 這邊要注意 paper 中最後一個 DWS convolution 的 stride 寫錯了，應該為 1</font>\n",
        "\n",
        "<img width=\"60%\" src=\"https://drive.google.com/uc?id=1ej2h25JpH-VOJgvlyIAvkG_hE96biHes\">  "
      ],
      "metadata": {
        "id": "-Z-0dv7X8ieM"
      }
    },
    {
      "cell_type": "code",
      "source": [
        "import torch.nn as nn\n",
        "\n",
        "class MobileNetv1(nn.Module):\n",
        "  def __init__(self, in_channels, num_classes):\n",
        "    super().__init__()\n",
        "\n",
        "    self.layers = nn.Sequential(\n",
        "        StandardConv(in_channels, 32, 2),\n",
        "        DepthwiseSeparableConv(32, 64, 1),\n",
        "        DepthwiseSeparableConv(64, 128, 2),\n",
        "        DepthwiseSeparableConv(128, 128, 1),\n",
        "        DepthwiseSeparableConv(128, 256, 2),\n",
        "        DepthwiseSeparableConv(256, 256, 1),\n",
        "        DepthwiseSeparableConv(256, 512, 2),\n",
        "        DepthwiseSeparableConv(512, 512, 1),\n",
        "        DepthwiseSeparableConv(512, 512, 1),\n",
        "        DepthwiseSeparableConv(512, 512, 1),\n",
        "        DepthwiseSeparableConv(512, 512, 1),\n",
        "        DepthwiseSeparableConv(512, 512, 1),\n",
        "        DepthwiseSeparableConv(512, 1024, 2),\n",
        "        DepthwiseSeparableConv(1024, 1024, 1)\n",
        "    )\n",
        "\n",
        "    self.avg_pool = nn.AvgPool2d(7)\n",
        "    self.fc = nn.Linear(1024, num_classes)\n",
        "\n",
        "  def forward(self, x):\n",
        "    x = self.layers(x)\n",
        "    x = self.avg_pool(x)\n",
        "    x = torch.flatten(x, 1)   # (1, 1024, 1, 1) -> (1, 1024)\n",
        "    x = self.fc(x)\n",
        "    return x"
      ],
      "metadata": {
        "id": "BO_A44fSr6sK"
      },
      "execution_count": 21,
      "outputs": []
    },
    {
      "cell_type": "code",
      "source": [
        "import torch\n",
        "from torchsummary import summary\n",
        "torch.set_printoptions(threshold=10)\n",
        "\n",
        "model = MobileNetv1(in_channels=3, num_classes=1000)\n",
        "model.to(device)\n",
        "# print(model)\n",
        "summary(model, input_size=(3, 224, 224))\n",
        "\n",
        "# create randen input data\n",
        "input_data = torch.randn((1, 3, 224, 224), device=device)\n",
        "print(f'\\ninput data: {input_data.shape}\\n{input_data}')\n",
        "print(device)\n",
        "\n",
        "# output\n",
        "output_data = model(input_data)\n",
        "print(f'\\noutput data: {output_data.shape}\\n{output_data}')"
      ],
      "metadata": {
        "colab": {
          "base_uri": "https://localhost:8080/"
        },
        "id": "oU__VSb11qBV",
        "outputId": "bc142d69-b593-4b23-a4a0-219a708a9059"
      },
      "execution_count": 22,
      "outputs": [
        {
          "output_type": "stream",
          "name": "stdout",
          "text": [
            "----------------------------------------------------------------\n",
            "        Layer (type)               Output Shape         Param #\n",
            "================================================================\n",
            "            Conv2d-1         [-1, 32, 112, 112]             864\n",
            "       BatchNorm2d-2         [-1, 32, 112, 112]              64\n",
            "              ReLU-3         [-1, 32, 112, 112]               0\n",
            "      StandardConv-4         [-1, 32, 112, 112]               0\n",
            "            Conv2d-5         [-1, 32, 112, 112]             288\n",
            "       BatchNorm2d-6         [-1, 32, 112, 112]              64\n",
            "              ReLU-7         [-1, 32, 112, 112]               0\n",
            "            Conv2d-8         [-1, 64, 112, 112]           2,048\n",
            "       BatchNorm2d-9         [-1, 64, 112, 112]             128\n",
            "             ReLU-10         [-1, 64, 112, 112]               0\n",
            "DepthwiseSeparableConv-11         [-1, 64, 112, 112]               0\n",
            "           Conv2d-12           [-1, 64, 56, 56]             576\n",
            "      BatchNorm2d-13           [-1, 64, 56, 56]             128\n",
            "             ReLU-14           [-1, 64, 56, 56]               0\n",
            "           Conv2d-15          [-1, 128, 56, 56]           8,192\n",
            "      BatchNorm2d-16          [-1, 128, 56, 56]             256\n",
            "             ReLU-17          [-1, 128, 56, 56]               0\n",
            "DepthwiseSeparableConv-18          [-1, 128, 56, 56]               0\n",
            "           Conv2d-19          [-1, 128, 56, 56]           1,152\n",
            "      BatchNorm2d-20          [-1, 128, 56, 56]             256\n",
            "             ReLU-21          [-1, 128, 56, 56]               0\n",
            "           Conv2d-22          [-1, 128, 56, 56]          16,384\n",
            "      BatchNorm2d-23          [-1, 128, 56, 56]             256\n",
            "             ReLU-24          [-1, 128, 56, 56]               0\n",
            "DepthwiseSeparableConv-25          [-1, 128, 56, 56]               0\n",
            "           Conv2d-26          [-1, 128, 28, 28]           1,152\n",
            "      BatchNorm2d-27          [-1, 128, 28, 28]             256\n",
            "             ReLU-28          [-1, 128, 28, 28]               0\n",
            "           Conv2d-29          [-1, 256, 28, 28]          32,768\n",
            "      BatchNorm2d-30          [-1, 256, 28, 28]             512\n",
            "             ReLU-31          [-1, 256, 28, 28]               0\n",
            "DepthwiseSeparableConv-32          [-1, 256, 28, 28]               0\n",
            "           Conv2d-33          [-1, 256, 28, 28]           2,304\n",
            "      BatchNorm2d-34          [-1, 256, 28, 28]             512\n",
            "             ReLU-35          [-1, 256, 28, 28]               0\n",
            "           Conv2d-36          [-1, 256, 28, 28]          65,536\n",
            "      BatchNorm2d-37          [-1, 256, 28, 28]             512\n",
            "             ReLU-38          [-1, 256, 28, 28]               0\n",
            "DepthwiseSeparableConv-39          [-1, 256, 28, 28]               0\n",
            "           Conv2d-40          [-1, 256, 14, 14]           2,304\n",
            "      BatchNorm2d-41          [-1, 256, 14, 14]             512\n",
            "             ReLU-42          [-1, 256, 14, 14]               0\n",
            "           Conv2d-43          [-1, 512, 14, 14]         131,072\n",
            "      BatchNorm2d-44          [-1, 512, 14, 14]           1,024\n",
            "             ReLU-45          [-1, 512, 14, 14]               0\n",
            "DepthwiseSeparableConv-46          [-1, 512, 14, 14]               0\n",
            "           Conv2d-47          [-1, 512, 14, 14]           4,608\n",
            "      BatchNorm2d-48          [-1, 512, 14, 14]           1,024\n",
            "             ReLU-49          [-1, 512, 14, 14]               0\n",
            "           Conv2d-50          [-1, 512, 14, 14]         262,144\n",
            "      BatchNorm2d-51          [-1, 512, 14, 14]           1,024\n",
            "             ReLU-52          [-1, 512, 14, 14]               0\n",
            "DepthwiseSeparableConv-53          [-1, 512, 14, 14]               0\n",
            "           Conv2d-54          [-1, 512, 14, 14]           4,608\n",
            "      BatchNorm2d-55          [-1, 512, 14, 14]           1,024\n",
            "             ReLU-56          [-1, 512, 14, 14]               0\n",
            "           Conv2d-57          [-1, 512, 14, 14]         262,144\n",
            "      BatchNorm2d-58          [-1, 512, 14, 14]           1,024\n",
            "             ReLU-59          [-1, 512, 14, 14]               0\n",
            "DepthwiseSeparableConv-60          [-1, 512, 14, 14]               0\n",
            "           Conv2d-61          [-1, 512, 14, 14]           4,608\n",
            "      BatchNorm2d-62          [-1, 512, 14, 14]           1,024\n",
            "             ReLU-63          [-1, 512, 14, 14]               0\n",
            "           Conv2d-64          [-1, 512, 14, 14]         262,144\n",
            "      BatchNorm2d-65          [-1, 512, 14, 14]           1,024\n",
            "             ReLU-66          [-1, 512, 14, 14]               0\n",
            "DepthwiseSeparableConv-67          [-1, 512, 14, 14]               0\n",
            "           Conv2d-68          [-1, 512, 14, 14]           4,608\n",
            "      BatchNorm2d-69          [-1, 512, 14, 14]           1,024\n",
            "             ReLU-70          [-1, 512, 14, 14]               0\n",
            "           Conv2d-71          [-1, 512, 14, 14]         262,144\n",
            "      BatchNorm2d-72          [-1, 512, 14, 14]           1,024\n",
            "             ReLU-73          [-1, 512, 14, 14]               0\n",
            "DepthwiseSeparableConv-74          [-1, 512, 14, 14]               0\n",
            "           Conv2d-75          [-1, 512, 14, 14]           4,608\n",
            "      BatchNorm2d-76          [-1, 512, 14, 14]           1,024\n",
            "             ReLU-77          [-1, 512, 14, 14]               0\n",
            "           Conv2d-78          [-1, 512, 14, 14]         262,144\n",
            "      BatchNorm2d-79          [-1, 512, 14, 14]           1,024\n",
            "             ReLU-80          [-1, 512, 14, 14]               0\n",
            "DepthwiseSeparableConv-81          [-1, 512, 14, 14]               0\n",
            "           Conv2d-82            [-1, 512, 7, 7]           4,608\n",
            "      BatchNorm2d-83            [-1, 512, 7, 7]           1,024\n",
            "             ReLU-84            [-1, 512, 7, 7]               0\n",
            "           Conv2d-85           [-1, 1024, 7, 7]         524,288\n",
            "      BatchNorm2d-86           [-1, 1024, 7, 7]           2,048\n",
            "             ReLU-87           [-1, 1024, 7, 7]               0\n",
            "DepthwiseSeparableConv-88           [-1, 1024, 7, 7]               0\n",
            "           Conv2d-89           [-1, 1024, 7, 7]           9,216\n",
            "      BatchNorm2d-90           [-1, 1024, 7, 7]           2,048\n",
            "             ReLU-91           [-1, 1024, 7, 7]               0\n",
            "           Conv2d-92           [-1, 1024, 7, 7]       1,048,576\n",
            "      BatchNorm2d-93           [-1, 1024, 7, 7]           2,048\n",
            "             ReLU-94           [-1, 1024, 7, 7]               0\n",
            "DepthwiseSeparableConv-95           [-1, 1024, 7, 7]               0\n",
            "        AvgPool2d-96           [-1, 1024, 1, 1]               0\n",
            "           Linear-97                 [-1, 1000]       1,025,000\n",
            "================================================================\n",
            "Total params: 4,231,976\n",
            "Trainable params: 4,231,976\n",
            "Non-trainable params: 0\n",
            "----------------------------------------------------------------\n",
            "Input size (MB): 0.57\n",
            "Forward/backward pass size (MB): 139.17\n",
            "Params size (MB): 16.14\n",
            "Estimated Total Size (MB): 155.89\n",
            "----------------------------------------------------------------\n",
            "\n",
            "input data: torch.Size([1, 3, 224, 224])\n",
            "tensor([[[[-0.0861,  0.7217, -0.4038,  ...,  0.7820, -0.8151, -0.9370],\n",
            "          [ 1.5929, -0.2223, -0.5198,  ..., -0.8814, -0.8575,  0.7597],\n",
            "          [ 0.9223, -0.0944,  0.6176,  ..., -0.2638, -1.6208,  0.7077],\n",
            "          ...,\n",
            "          [ 0.8062,  0.0773, -1.0953,  ..., -0.6430, -0.1214,  1.7021],\n",
            "          [ 2.5984, -1.1305,  1.1280,  ..., -1.6727,  0.2019,  0.9285],\n",
            "          [-0.1219, -0.0639,  1.0249,  ...,  1.3748, -2.3228,  0.9103]],\n",
            "\n",
            "         [[ 0.2748, -0.7355, -0.3329,  ...,  0.2208, -2.0624, -1.1120],\n",
            "          [-1.3161, -1.2725, -0.9854,  ..., -2.0937, -0.8858,  0.1226],\n",
            "          [ 1.2668, -0.0681, -0.4275,  ..., -0.4555, -0.5228, -1.1807],\n",
            "          ...,\n",
            "          [ 1.2277,  1.7708,  0.0305,  ...,  0.5176,  1.6226,  1.1175],\n",
            "          [-0.4102, -0.7020,  0.0342,  ...,  0.6420, -0.5232, -0.7839],\n",
            "          [-0.6577, -1.7141, -1.3556,  ...,  0.3617,  0.8932,  0.8991]],\n",
            "\n",
            "         [[ 0.3688, -0.6470, -1.1518,  ..., -1.1008,  0.0841, -0.8595],\n",
            "          [-0.7770,  0.2784,  0.8437,  ..., -0.2856, -0.0418,  1.0677],\n",
            "          [ 0.1787,  0.2161, -0.7928,  ..., -2.3743,  0.7897,  0.0755],\n",
            "          ...,\n",
            "          [ 0.6268, -0.9560,  1.6501,  ...,  0.6891,  0.2037, -0.7909],\n",
            "          [-1.9486,  0.4521,  1.0528,  ...,  1.6218,  0.3817,  0.8546],\n",
            "          [ 0.6452,  1.2214,  0.5148,  ..., -0.6664,  1.2593,  2.1440]]]],\n",
            "       device='cuda:0')\n",
            "cuda:0\n",
            "\n",
            "output data: torch.Size([1, 1000])\n",
            "tensor([[-0.2871,  0.1400,  0.0147,  ...,  0.0475, -0.4749,  0.2142]],\n",
            "       device='cuda:0', grad_fn=<AddmmBackward0>)\n"
          ]
        }
      ]
    },
    {
      "cell_type": "code",
      "source": [
        "import torch.nn as nn\n",
        "\n",
        "class MobileNetv1(nn.Module):\n",
        "  def __init__(self, in_channels, num_classes, width_multiplier):\n",
        "    super().__init__()\n",
        "\n",
        "    self.layers = nn.Sequential(\n",
        "        StandardConv(in_channels, int(32 * width_multiplier), 2),\n",
        "        DepthwiseSeparableConv(int(32 * width_multiplier), int(64 * width_multiplier), 1),\n",
        "        DepthwiseSeparableConv(int(64 * width_multiplier), int(128 * width_multiplier), 2),\n",
        "        DepthwiseSeparableConv(int(128 * width_multiplier), int(128 * width_multiplier), 1),\n",
        "        DepthwiseSeparableConv(int(128 * width_multiplier), int(256 * width_multiplier), 2),\n",
        "        DepthwiseSeparableConv(int(256 * width_multiplier), int(256 * width_multiplier), 1),\n",
        "        DepthwiseSeparableConv(int(256 * width_multiplier), int(512 * width_multiplier), 2),\n",
        "        DepthwiseSeparableConv(int(512 * width_multiplier), int(512 * width_multiplier), 1),\n",
        "        DepthwiseSeparableConv(int(512 * width_multiplier), int(512 * width_multiplier), 1),\n",
        "        DepthwiseSeparableConv(int(512 * width_multiplier), int(512 * width_multiplier), 1),\n",
        "        DepthwiseSeparableConv(int(512 * width_multiplier), int(512 * width_multiplier), 1),\n",
        "        DepthwiseSeparableConv(int(512 * width_multiplier), int(512 * width_multiplier), 1),\n",
        "        DepthwiseSeparableConv(int(512 * width_multiplier), int(1024 * width_multiplier), 2),\n",
        "        DepthwiseSeparableConv(int(1024 * width_multiplier), int(1024 * width_multiplier), 1)\n",
        "    )\n",
        "\n",
        "    self.avg_pool = nn.AdaptiveAvgPool2d(1)\n",
        "    self.fc = nn.Linear(int(1024 * width_multiplier), num_classes)\n",
        "\n",
        "  def forward(self, x):\n",
        "    x = self.layers(x)\n",
        "    x = self.avg_pool(x)\n",
        "    x = torch.flatten(x, 1)   # (1, 1024, 1, 1) -> (1, 1024)\n",
        "    x = self.fc(x)\n",
        "    return x"
      ],
      "metadata": {
        "id": "uFcqF9RIPZFj"
      },
      "execution_count": 23,
      "outputs": []
    },
    {
      "cell_type": "markdown",
      "source": [
        "### <font color=#FF3030>📌 Train MNIST By MobileNet v1</font>"
      ],
      "metadata": {
        "id": "RwN8B1Zc5tSN"
      }
    },
    {
      "cell_type": "markdown",
      "source": [
        "#### 🔥 Create datasets transform\n",
        "\n",
        "在 PyTorch 中都會建立一個 <font color=#F08080>trasnforms</font> 來做 datasets 的格式轉換  \n",
        "transforms 可以做很多事情，例如標準化、各種前處理又或是資料轉成 Tensor 格式  \n",
        "\n",
        "這邊我們只需要做兩件事情：  \n",
        "\n",
        "1.   轉換成 Tensor 格式 : [transforms.ToTensor](https://pytorch.org/vision/main/generated/torchvision.transforms.ToTensor.html)\n",
        "2.   做標準化 : [transforms.Normalize](https://pytorch.org/vision/main/generated/torchvision.transforms.Normalize.html)\n",
        "\n"
      ],
      "metadata": {
        "id": "I5zZkQjF6tWv"
      }
    },
    {
      "cell_type": "code",
      "source": [
        "import torchvision.transforms as transforms\n",
        "\n",
        "transform = transforms.Compose([\n",
        "    transforms.ToTensor(),\n",
        "    transforms.Normalize((0.5,), (0.5,))\n",
        "])"
      ],
      "metadata": {
        "id": "-ppa3Evh6xvx"
      },
      "execution_count": 24,
      "outputs": []
    },
    {
      "cell_type": "markdown",
      "source": [
        "#### 🔥 Download MNIST datasets\n",
        "\n",
        "在 PyTorch 官方提供很多的 datasets 來讓我們輕鬆使用  \n",
        "這些 datasets 都放在 <font color=#F08080>torchvision.datasets</font> 中  \n",
        "\n",
        "這邊我們使用 <font color=#F08080>torchvision.datasets.MNIST</font> 來下載 <font color=#F08080>MNIST</font> 的 datasets  \n"
      ],
      "metadata": {
        "id": "67NQ5VHm6R8k"
      }
    },
    {
      "cell_type": "code",
      "source": [
        "import torch\n",
        "import torchvision\n",
        "import torchvision.datasets as datasets\n",
        "\n",
        "# Donwload MNIST training and validation datasets\n",
        "training_datasets = datasets.MNIST(root='./datasets', train=True, transform=transform, download=True)\n",
        "validation_datasets = datasets.MNIST(root='./datasets', train=False, transform=transform, download=True)\n",
        "\n",
        "# Class labels\n",
        "classes = ('0', '1', '2', '3', '4', '5', '6', '7', '8', '9')\n",
        "\n",
        "print('Training datasets has {}'.format(len(training_datasets)))\n",
        "print('Validation datasets has {}'.format(len(validation_datasets)))"
      ],
      "metadata": {
        "colab": {
          "base_uri": "https://localhost:8080/"
        },
        "id": "mpFksMfutJY0",
        "outputId": "b010e834-ae7a-4595-e1ba-90e7d2184cb7"
      },
      "execution_count": 25,
      "outputs": [
        {
          "output_type": "stream",
          "name": "stdout",
          "text": [
            "Downloading http://yann.lecun.com/exdb/mnist/train-images-idx3-ubyte.gz\n",
            "Downloading http://yann.lecun.com/exdb/mnist/train-images-idx3-ubyte.gz to ./datasets/MNIST/raw/train-images-idx3-ubyte.gz\n"
          ]
        },
        {
          "output_type": "stream",
          "name": "stderr",
          "text": [
            "100%|██████████| 9912422/9912422 [00:00<00:00, 196177546.46it/s]"
          ]
        },
        {
          "output_type": "stream",
          "name": "stdout",
          "text": [
            "Extracting ./datasets/MNIST/raw/train-images-idx3-ubyte.gz to ./datasets/MNIST/raw\n"
          ]
        },
        {
          "output_type": "stream",
          "name": "stderr",
          "text": [
            "\n"
          ]
        },
        {
          "output_type": "stream",
          "name": "stdout",
          "text": [
            "\n",
            "Downloading http://yann.lecun.com/exdb/mnist/train-labels-idx1-ubyte.gz\n",
            "Downloading http://yann.lecun.com/exdb/mnist/train-labels-idx1-ubyte.gz to ./datasets/MNIST/raw/train-labels-idx1-ubyte.gz\n"
          ]
        },
        {
          "output_type": "stream",
          "name": "stderr",
          "text": [
            "100%|██████████| 28881/28881 [00:00<00:00, 40338226.38it/s]\n"
          ]
        },
        {
          "output_type": "stream",
          "name": "stdout",
          "text": [
            "Extracting ./datasets/MNIST/raw/train-labels-idx1-ubyte.gz to ./datasets/MNIST/raw\n",
            "\n",
            "Downloading http://yann.lecun.com/exdb/mnist/t10k-images-idx3-ubyte.gz\n",
            "Downloading http://yann.lecun.com/exdb/mnist/t10k-images-idx3-ubyte.gz to ./datasets/MNIST/raw/t10k-images-idx3-ubyte.gz\n"
          ]
        },
        {
          "output_type": "stream",
          "name": "stderr",
          "text": [
            "100%|██████████| 1648877/1648877 [00:00<00:00, 50352321.78it/s]"
          ]
        },
        {
          "output_type": "stream",
          "name": "stdout",
          "text": [
            "Extracting ./datasets/MNIST/raw/t10k-images-idx3-ubyte.gz to ./datasets/MNIST/raw\n"
          ]
        },
        {
          "output_type": "stream",
          "name": "stderr",
          "text": [
            "\n"
          ]
        },
        {
          "output_type": "stream",
          "name": "stdout",
          "text": [
            "\n",
            "Downloading http://yann.lecun.com/exdb/mnist/t10k-labels-idx1-ubyte.gz\n",
            "Downloading http://yann.lecun.com/exdb/mnist/t10k-labels-idx1-ubyte.gz to ./datasets/MNIST/raw/t10k-labels-idx1-ubyte.gz\n"
          ]
        },
        {
          "output_type": "stream",
          "name": "stderr",
          "text": [
            "100%|██████████| 4542/4542 [00:00<00:00, 5651298.95it/s]\n"
          ]
        },
        {
          "output_type": "stream",
          "name": "stdout",
          "text": [
            "Extracting ./datasets/MNIST/raw/t10k-labels-idx1-ubyte.gz to ./datasets/MNIST/raw\n",
            "\n",
            "Training datasets has 60000\n",
            "Validation datasets has 10000\n"
          ]
        }
      ]
    },
    {
      "cell_type": "markdown",
      "source": [
        "在 PyTorch 中所有的 datasets 都會利用 <font color=#F08080>DataLoader</font> 做載入的動作  \n"
      ],
      "metadata": {
        "id": "ljFQkBvo4OTr"
      }
    },
    {
      "cell_type": "code",
      "source": [
        "from torch.utils.data import DataLoader\n",
        "\n",
        "training_loader = DataLoader(training_datasets, batch_size=128, shuffle=True)\n",
        "validation_loader = DataLoader(validation_datasets, batch_size=128, shuffle=False)"
      ],
      "metadata": {
        "id": "MPU5UYVA4NlG"
      },
      "execution_count": 26,
      "outputs": []
    },
    {
      "cell_type": "markdown",
      "source": [
        "這邊寫一個簡單的 function 來檢視一下 datasets 裡面到底是長怎樣"
      ],
      "metadata": {
        "id": "vvWfo78D-LHI"
      }
    },
    {
      "cell_type": "code",
      "source": [
        "import matplotlib.pyplot as plt\n",
        "import numpy as np\n",
        "\n",
        "dataiter = iter(training_loader)\n",
        "images, labels = next(dataiter)\n",
        "\n",
        "# Create a grid from the images and show them\n",
        "img_grid = torchvision.utils.make_grid(images)\n",
        "img_grid = np.transpose(img_grid, (1, 2, 0))    # (c, w, h) -> (w, h, c)\n",
        "plt.imshow(img_grid)"
      ],
      "metadata": {
        "colab": {
          "base_uri": "https://localhost:8080/",
          "height": 470
        },
        "id": "Y_8FJ6ME6Cwe",
        "outputId": "dc79581b-bd5e-4d5f-aafb-e3468e6258a6"
      },
      "execution_count": 27,
      "outputs": [
        {
          "output_type": "stream",
          "name": "stderr",
          "text": [
            "WARNING:matplotlib.image:Clipping input data to the valid range for imshow with RGB data ([0..1] for floats or [0..255] for integers).\n"
          ]
        },
        {
          "output_type": "execute_result",
          "data": {
            "text/plain": [
              "<matplotlib.image.AxesImage at 0x7e1f9ffe47c0>"
            ]
          },
          "metadata": {},
          "execution_count": 27
        },
        {
          "output_type": "display_data",
          "data": {
            "text/plain": [
              "<Figure size 640x480 with 1 Axes>"
            ],
            "image/png": "[encoded data removed]"
          },
          "metadata": {}
        }
      ]
    },
    {
      "cell_type": "markdown",
      "source": [
        "#### 🔥 Create Empty MobileNet v1\n",
        "\n",
        "接著我們要來<font color=#F08080>創建一個要用來 training 的空 model</font>  \n",
        "因為這邊只是要分類簡單的 datasets 因此就不使用完整的 MobileNet v1  \n",
        "而是將所有的 convolution 都減少為 0.25 倍"
      ],
      "metadata": {
        "id": "i35JFoXG_z_f"
      }
    },
    {
      "cell_type": "code",
      "source": [
        "model = MobileNetv1(in_channels=1, num_classes=10, width_multiplier=0.25)\n",
        "model.to(device)\n",
        "summary(model, input_size=(1, 28, 28))"
      ],
      "metadata": {
        "colab": {
          "base_uri": "https://localhost:8080/"
        },
        "id": "USWBfG5gGJqa",
        "outputId": "9a9350c9-ce4d-4ae1-8f63-42aca2a7dd73"
      },
      "execution_count": 82,
      "outputs": [
        {
          "output_type": "stream",
          "name": "stdout",
          "text": [
            "----------------------------------------------------------------\n",
            "        Layer (type)               Output Shape         Param #\n",
            "================================================================\n",
            "            Conv2d-1            [-1, 8, 14, 14]              72\n",
            "       BatchNorm2d-2            [-1, 8, 14, 14]              16\n",
            "              ReLU-3            [-1, 8, 14, 14]               0\n",
            "      StandardConv-4            [-1, 8, 14, 14]               0\n",
            "            Conv2d-5            [-1, 8, 14, 14]              72\n",
            "       BatchNorm2d-6            [-1, 8, 14, 14]              16\n",
            "              ReLU-7            [-1, 8, 14, 14]               0\n",
            "            Conv2d-8           [-1, 16, 14, 14]             128\n",
            "       BatchNorm2d-9           [-1, 16, 14, 14]              32\n",
            "             ReLU-10           [-1, 16, 14, 14]               0\n",
            "DepthwiseSeparableConv-11           [-1, 16, 14, 14]               0\n",
            "           Conv2d-12             [-1, 16, 7, 7]             144\n",
            "      BatchNorm2d-13             [-1, 16, 7, 7]              32\n",
            "             ReLU-14             [-1, 16, 7, 7]               0\n",
            "           Conv2d-15             [-1, 32, 7, 7]             512\n",
            "      BatchNorm2d-16             [-1, 32, 7, 7]              64\n",
            "             ReLU-17             [-1, 32, 7, 7]               0\n",
            "DepthwiseSeparableConv-18             [-1, 32, 7, 7]               0\n",
            "           Conv2d-19             [-1, 32, 7, 7]             288\n",
            "      BatchNorm2d-20             [-1, 32, 7, 7]              64\n",
            "             ReLU-21             [-1, 32, 7, 7]               0\n",
            "           Conv2d-22             [-1, 32, 7, 7]           1,024\n",
            "      BatchNorm2d-23             [-1, 32, 7, 7]              64\n",
            "             ReLU-24             [-1, 32, 7, 7]               0\n",
            "DepthwiseSeparableConv-25             [-1, 32, 7, 7]               0\n",
            "           Conv2d-26             [-1, 32, 4, 4]             288\n",
            "      BatchNorm2d-27             [-1, 32, 4, 4]              64\n",
            "             ReLU-28             [-1, 32, 4, 4]               0\n",
            "           Conv2d-29             [-1, 64, 4, 4]           2,048\n",
            "      BatchNorm2d-30             [-1, 64, 4, 4]             128\n",
            "             ReLU-31             [-1, 64, 4, 4]               0\n",
            "DepthwiseSeparableConv-32             [-1, 64, 4, 4]               0\n",
            "           Conv2d-33             [-1, 64, 4, 4]             576\n",
            "      BatchNorm2d-34             [-1, 64, 4, 4]             128\n",
            "             ReLU-35             [-1, 64, 4, 4]               0\n",
            "           Conv2d-36             [-1, 64, 4, 4]           4,096\n",
            "      BatchNorm2d-37             [-1, 64, 4, 4]             128\n",
            "             ReLU-38             [-1, 64, 4, 4]               0\n",
            "DepthwiseSeparableConv-39             [-1, 64, 4, 4]               0\n",
            "           Conv2d-40             [-1, 64, 2, 2]             576\n",
            "      BatchNorm2d-41             [-1, 64, 2, 2]             128\n",
            "             ReLU-42             [-1, 64, 2, 2]               0\n",
            "           Conv2d-43            [-1, 128, 2, 2]           8,192\n",
            "      BatchNorm2d-44            [-1, 128, 2, 2]             256\n",
            "             ReLU-45            [-1, 128, 2, 2]               0\n",
            "DepthwiseSeparableConv-46            [-1, 128, 2, 2]               0\n",
            "           Conv2d-47            [-1, 128, 2, 2]           1,152\n",
            "      BatchNorm2d-48            [-1, 128, 2, 2]             256\n",
            "             ReLU-49            [-1, 128, 2, 2]               0\n",
            "           Conv2d-50            [-1, 128, 2, 2]          16,384\n",
            "      BatchNorm2d-51            [-1, 128, 2, 2]             256\n",
            "             ReLU-52            [-1, 128, 2, 2]               0\n",
            "DepthwiseSeparableConv-53            [-1, 128, 2, 2]               0\n",
            "           Conv2d-54            [-1, 128, 2, 2]           1,152\n",
            "      BatchNorm2d-55            [-1, 128, 2, 2]             256\n",
            "             ReLU-56            [-1, 128, 2, 2]               0\n",
            "           Conv2d-57            [-1, 128, 2, 2]          16,384\n",
            "      BatchNorm2d-58            [-1, 128, 2, 2]             256\n",
            "             ReLU-59            [-1, 128, 2, 2]               0\n",
            "DepthwiseSeparableConv-60            [-1, 128, 2, 2]               0\n",
            "           Conv2d-61            [-1, 128, 2, 2]           1,152\n",
            "      BatchNorm2d-62            [-1, 128, 2, 2]             256\n",
            "             ReLU-63            [-1, 128, 2, 2]               0\n",
            "           Conv2d-64            [-1, 128, 2, 2]          16,384\n",
            "      BatchNorm2d-65            [-1, 128, 2, 2]             256\n",
            "             ReLU-66            [-1, 128, 2, 2]               0\n",
            "DepthwiseSeparableConv-67            [-1, 128, 2, 2]               0\n",
            "           Conv2d-68            [-1, 128, 2, 2]           1,152\n",
            "      BatchNorm2d-69            [-1, 128, 2, 2]             256\n",
            "             ReLU-70            [-1, 128, 2, 2]               0\n",
            "           Conv2d-71            [-1, 128, 2, 2]          16,384\n",
            "      BatchNorm2d-72            [-1, 128, 2, 2]             256\n",
            "             ReLU-73            [-1, 128, 2, 2]               0\n",
            "DepthwiseSeparableConv-74            [-1, 128, 2, 2]               0\n",
            "           Conv2d-75            [-1, 128, 2, 2]           1,152\n",
            "      BatchNorm2d-76            [-1, 128, 2, 2]             256\n",
            "             ReLU-77            [-1, 128, 2, 2]               0\n",
            "           Conv2d-78            [-1, 128, 2, 2]          16,384\n",
            "      BatchNorm2d-79            [-1, 128, 2, 2]             256\n",
            "             ReLU-80            [-1, 128, 2, 2]               0\n",
            "DepthwiseSeparableConv-81            [-1, 128, 2, 2]               0\n",
            "           Conv2d-82            [-1, 128, 1, 1]           1,152\n",
            "      BatchNorm2d-83            [-1, 128, 1, 1]             256\n",
            "             ReLU-84            [-1, 128, 1, 1]               0\n",
            "           Conv2d-85            [-1, 256, 1, 1]          32,768\n",
            "      BatchNorm2d-86            [-1, 256, 1, 1]             512\n",
            "             ReLU-87            [-1, 256, 1, 1]               0\n",
            "DepthwiseSeparableConv-88            [-1, 256, 1, 1]               0\n",
            "           Conv2d-89            [-1, 256, 1, 1]           2,304\n",
            "      BatchNorm2d-90            [-1, 256, 1, 1]             512\n",
            "             ReLU-91            [-1, 256, 1, 1]               0\n",
            "           Conv2d-92            [-1, 256, 1, 1]          65,536\n",
            "      BatchNorm2d-93            [-1, 256, 1, 1]             512\n",
            "             ReLU-94            [-1, 256, 1, 1]               0\n",
            "DepthwiseSeparableConv-95            [-1, 256, 1, 1]               0\n",
            "AdaptiveAvgPool2d-96            [-1, 256, 1, 1]               0\n",
            "           Linear-97                   [-1, 10]           2,570\n",
            "================================================================\n",
            "Total params: 215,498\n",
            "Trainable params: 215,498\n",
            "Non-trainable params: 0\n",
            "----------------------------------------------------------------\n",
            "Input size (MB): 0.00\n",
            "Forward/backward pass size (MB): 0.61\n",
            "Params size (MB): 0.82\n",
            "Estimated Total Size (MB): 1.44\n",
            "----------------------------------------------------------------\n"
          ]
        }
      ]
    },
    {
      "cell_type": "markdown",
      "source": [
        "#### 🔥 [Optimizer](https://pytorch.org/docs/stable/optim.html)\n",
        "\n",
        "這邊我們 <font color=\"F08080\">optimizer</font> 選用 SGD  \n",
        "learning rate 設定為 0.001，momentum 設定為 0.9"
      ],
      "metadata": {
        "id": "0-xpFWHqA6r8"
      }
    },
    {
      "cell_type": "code",
      "source": [
        "# Optimizers specified in the torch.optim package\n",
        "optimizer = torch.optim.SGD(model.parameters(), lr=0.001, momentum=0.9)"
      ],
      "metadata": {
        "id": "YYINsXoM-HDA"
      },
      "execution_count": 83,
      "outputs": []
    },
    {
      "cell_type": "markdown",
      "source": [
        "#### 🔥 [Loss Function](https://pytorch.org/docs/stable/nn.html#loss-functions)\n",
        "\n",
        "<font color=\"F08080\">Loss function</font> 選用 [CrossEntropyLoss](https://pytorch.org/docs/stable/generated/torch.nn.CrossEntropyLoss.html#torch.nn.CrossEntropyLoss)  \n"
      ],
      "metadata": {
        "id": "VPRUnhvrBlk1"
      }
    },
    {
      "cell_type": "code",
      "source": [
        "# Loss function\n",
        "loss_fn = torch.nn.CrossEntropyLoss()"
      ],
      "metadata": {
        "id": "1_vZ3w5SD7_P"
      },
      "execution_count": 84,
      "outputs": []
    },
    {
      "cell_type": "markdown",
      "source": [
        "#### 🔥 Training Function\n",
        "\n",
        "這邊我們寫一個 <font color=\"F08080\">training function</font>  \n",
        "每個 epoch 都會呼叫一次"
      ],
      "metadata": {
        "id": "5PEdba-yCXpQ"
      }
    },
    {
      "cell_type": "code",
      "source": [
        "def _train(epoch):\n",
        "\n",
        "  # Make sure gradient tracking is on, and do a pass over the data\n",
        "  model.train()\n",
        "\n",
        "  for step, (inputs, labels) in enumerate(training_loader):\n",
        "    # Every data instance is an input + label pair\n",
        "    inputs, labels = inputs.to(device), labels.to(device)\n",
        "\n",
        "    # Zero your gradients for every batch!\n",
        "    optimizer.zero_grad()\n",
        "\n",
        "    # Make predictions for this batch\n",
        "    outputs = model(inputs)\n",
        "\n",
        "    # Compute the loss and its gradients\n",
        "    loss = loss_fn(outputs, labels)\n",
        "    loss.backward()\n",
        "\n",
        "    # Adjust learning weights\n",
        "    optimizer.step()\n",
        "\n",
        "    # Gather data and report\n",
        "    if step % 100 == 99:\n",
        "      print('  step: {} [{}/{}], loss: {}'.format(step + 1, (step + 1) * len(inputs), len(training_loader.dataset), loss.item()))"
      ],
      "metadata": {
        "id": "Cns0uyhBV_KV"
      },
      "execution_count": 85,
      "outputs": []
    },
    {
      "cell_type": "markdown",
      "source": [
        "#### 🔥 Validation Function\n",
        "\n",
        "這邊我們寫一個 <font color=\"F08080\">validation function</font>  \n",
        "通常每個 epoch 最後都會做一次 validate 來驗證精準度  \n",
        "當然也可以一個 epoch 中做很多次"
      ],
      "metadata": {
        "id": "39b-ftWtGWnw"
      }
    },
    {
      "cell_type": "code",
      "source": [
        "def _validate(epoch, best_accuracy):\n",
        "  correct = 0\n",
        "\n",
        "  # Set the model to evaluation mode\n",
        "  model.eval()\n",
        "\n",
        "  # Disable gradient computation and reduce memory consumption.\n",
        "  with torch.no_grad():\n",
        "    for inputs, labels in validation_loader:\n",
        "      # Every data instance is an input + label pair\n",
        "      inputs, labels = inputs.to(device), labels.to(device)\n",
        "\n",
        "      # Make predictions for this batch\n",
        "      outputs = model(inputs)\n",
        "\n",
        "      # Compute the loss\n",
        "      loss = loss_fn(outputs, labels)\n",
        "\n",
        "      _, predict_result = torch.max(outputs.data, 1)\n",
        "      correct += torch.sum(predict_result == labels)\n",
        "\n",
        "  accuracy = (correct.data.item()) / len(validation_loader.dataset)\n",
        "  if accuracy > best_accuracy:\n",
        "    best_accuracy = accuracy\n",
        "    # save the best\n",
        "    torch.save(model.state_dict(), './mobilenet-v1-mnist-0.25-28.pt')\n",
        "    traced_script_module = torch.jit.trace(model, torch.rand(1, 1, 28, 28, device=device))\n",
        "    scripted_module = torch.jit.script(traced_script_module)\n",
        "    scripted_module.save('./mobilenet-v1-mnist-0.25-28.torchscript')\n",
        "\n",
        "  print('Accuracy: {}, Best accuracy: {}'.format(accuracy, best_accuracy))"
      ],
      "metadata": {
        "id": "NxWLn7LXZ4El"
      },
      "execution_count": 86,
      "outputs": []
    },
    {
      "cell_type": "markdown",
      "source": [
        "#### 🔥 Train\n",
        "\n",
        "這邊為了加快教學速度，因此 epoch 只設定一次即可"
      ],
      "metadata": {
        "id": "ggHqg-1BHCD6"
      }
    },
    {
      "cell_type": "code",
      "source": [
        "best_accuracy = 0\n",
        "_validate(0, best_accuracy)\n",
        "\n",
        "for epoch in range(10):\n",
        "  print('\\nEPOCH {}:'.format(epoch + 1))\n",
        "\n",
        "  _train(epoch)\n",
        "  _validate(epoch, best_accuracy)"
      ],
      "metadata": {
        "colab": {
          "base_uri": "https://localhost:8080/"
        },
        "id": "WQYQdF19ELal",
        "outputId": "9e90ce7c-c841-437e-8168-a60ae9ad02d1"
      },
      "execution_count": 88,
      "outputs": [
        {
          "output_type": "stream",
          "name": "stdout",
          "text": [
            "Accuracy: 0.9672, Best accuracy: 0.9672\n",
            "\n",
            "EPOCH 1:\n",
            "  step: 100 [12800/60000], loss: 0.04395029693841934\n",
            "  step: 200 [25600/60000], loss: 0.06555083394050598\n",
            "  step: 300 [38400/60000], loss: 0.04433298483490944\n",
            "  step: 400 [51200/60000], loss: 0.03659228980541229\n",
            "Accuracy: 0.9703, Best accuracy: 0.9703\n",
            "\n",
            "EPOCH 2:\n",
            "  step: 100 [12800/60000], loss: 0.05280439183115959\n",
            "  step: 200 [25600/60000], loss: 0.051098428666591644\n",
            "  step: 300 [38400/60000], loss: 0.041017308831214905\n",
            "  step: 400 [51200/60000], loss: 0.11756696552038193\n",
            "Accuracy: 0.9697, Best accuracy: 0.9697\n",
            "\n",
            "EPOCH 3:\n",
            "  step: 100 [12800/60000], loss: 0.09729629755020142\n",
            "  step: 200 [25600/60000], loss: 0.033370889723300934\n",
            "  step: 300 [38400/60000], loss: 0.049574434757232666\n",
            "  step: 400 [51200/60000], loss: 0.07729312777519226\n",
            "Accuracy: 0.9724, Best accuracy: 0.9724\n",
            "\n",
            "EPOCH 4:\n",
            "  step: 100 [12800/60000], loss: 0.048763878643512726\n",
            "  step: 200 [25600/60000], loss: 0.11319377273321152\n",
            "  step: 300 [38400/60000], loss: 0.04636250436306\n",
            "  step: 400 [51200/60000], loss: 0.1850680112838745\n",
            "Accuracy: 0.9684, Best accuracy: 0.9684\n",
            "\n",
            "EPOCH 5:\n",
            "  step: 100 [12800/60000], loss: 0.03622733801603317\n",
            "  step: 200 [25600/60000], loss: 0.015893198549747467\n",
            "  step: 300 [38400/60000], loss: 0.21837468445301056\n",
            "  step: 400 [51200/60000], loss: 0.02566862851381302\n",
            "Accuracy: 0.9687, Best accuracy: 0.9687\n",
            "\n",
            "EPOCH 6:\n",
            "  step: 100 [12800/60000], loss: 0.031474653631448746\n",
            "  step: 200 [25600/60000], loss: 0.01913786120712757\n",
            "  step: 300 [38400/60000], loss: 0.0769997090101242\n",
            "  step: 400 [51200/60000], loss: 0.05877797678112984\n",
            "Accuracy: 0.9725, Best accuracy: 0.9725\n",
            "\n",
            "EPOCH 7:\n",
            "  step: 100 [12800/60000], loss: 0.03509160503745079\n",
            "  step: 200 [25600/60000], loss: 0.044077470898628235\n",
            "  step: 300 [38400/60000], loss: 0.024077273905277252\n",
            "  step: 400 [51200/60000], loss: 0.01635962910950184\n",
            "Accuracy: 0.9719, Best accuracy: 0.9719\n",
            "\n",
            "EPOCH 8:\n",
            "  step: 100 [12800/60000], loss: 0.013795447535812855\n",
            "  step: 200 [25600/60000], loss: 0.0068978858180344105\n",
            "  step: 300 [38400/60000], loss: 0.01287612784653902\n",
            "  step: 400 [51200/60000], loss: 0.024931877851486206\n",
            "Accuracy: 0.9725, Best accuracy: 0.9725\n",
            "\n",
            "EPOCH 9:\n",
            "  step: 100 [12800/60000], loss: 0.010805192403495312\n",
            "  step: 200 [25600/60000], loss: 0.02354266680777073\n",
            "  step: 300 [38400/60000], loss: 0.006789567414671183\n",
            "  step: 400 [51200/60000], loss: 0.04635804891586304\n",
            "Accuracy: 0.9736, Best accuracy: 0.9736\n",
            "\n",
            "EPOCH 10:\n",
            "  step: 100 [12800/60000], loss: 0.05875151604413986\n",
            "  step: 200 [25600/60000], loss: 0.09394099563360214\n",
            "  step: 300 [38400/60000], loss: 0.02670282870531082\n",
            "  step: 400 [51200/60000], loss: 0.03382076323032379\n",
            "Accuracy: 0.9733, Best accuracy: 0.9733\n"
          ]
        }
      ]
    },
    {
      "cell_type": "markdown",
      "source": [
        "#### 🔥 Save Model\n",
        "\n",
        "訓練完的 model 我們當然要存起來  \n",
        "不過 PyTorch 跟很多的 AI Framework 有很大的不同之處，就是 PyTorch 正常只存 model 的參數值  \n",
        "整體的 model 架構是不會存在 .pt 中的"
      ],
      "metadata": {
        "id": "regjxHbFHhdz"
      }
    },
    {
      "cell_type": "code",
      "source": [
        "torch.save(model.state_dict(), './mobilenet-v1-mnist-0.25-28.pt')"
      ],
      "metadata": {
        "id": "OS62e_Ii3pFN"
      },
      "execution_count": 34,
      "outputs": []
    },
    {
      "cell_type": "markdown",
      "source": [
        "當然我們也可以將 model 存成 [TorchScript](https://pytorch.org/docs/stable/jit.html)  \n",
        "TorchScript 會將 model 架構和參數一同打包在一起  \n",
        "這樣在之後要 predict 時會非常方便  \n",
        "但是相對的之後要修改架構或是做 pre-training 的動作時就會非常非常的不方便  \n",
        "\n",
        "> <font color=#F08080>💡 這邊貼心建議，如果是存為 TorchScript 格式，副檔名盡量用 .torchscript 來讓之後的使用者清楚知道 model 格式</font>"
      ],
      "metadata": {
        "id": "xyLb3QKiSLz9"
      }
    },
    {
      "cell_type": "code",
      "source": [
        "traced_script_module = torch.jit.trace(model, torch.rand(1, 1, 28, 28, device=device))\n",
        "scripted_module = torch.jit.script(traced_script_module)\n",
        "scripted_module.save('./mobilenet-v1-mnist-0.25-28.torchscript')"
      ],
      "metadata": {
        "id": "pT3x5MExJL9w"
      },
      "execution_count": 37,
      "outputs": []
    },
    {
      "cell_type": "markdown",
      "source": [
        "### <font color=\"FF3030\">📌 Predict MobileNet v1</font>"
      ],
      "metadata": {
        "id": "UkYuAvKLIJMI"
      }
    },
    {
      "cell_type": "markdown",
      "source": [
        "model 訓練完成，下一步就是要來做 predict  \n",
        "\n",
        "在做驗證時候我們不會使用 train 或是 validate 的 datasets  \n",
        "通常會有一個 test datasets\n",
        "不過這時我們沒有 test datasets  \n",
        "因此就自己用滑鼠畫一張圖片吧！"
      ],
      "metadata": {
        "id": "FksuNXNFQyJz"
      }
    },
    {
      "cell_type": "code",
      "source": [
        "import ipywidgets as widgets\n",
        "from ipywidgets import Layout, Button, Box\n",
        "from IPython.display import display, HTML, Image\n",
        "from google.colab.output import eval_js\n",
        "from base64 import b64decode\n",
        "\n",
        "Image_Size = 256        #@param [\"28\", \"128\", \"256\", \"512\"] {type:\"raw\"}\n",
        "Filename = \"my_drawing\" #@param [] {allow-input: true}\n",
        "\n",
        "js_code = '''\n",
        "<script>\n",
        "var toolbar = document.getElementById('toolbar')\n",
        "var save_button = document.getElementById('save-btn')\n",
        "var canvas = document.getElementById('drawing-board')\n",
        "var ctx = canvas.getContext('2d')\n",
        "ctx.strokeStyle = 'black'\n",
        "ctx.fillRect( 0, 0, canvas.width, canvas.height)\n",
        "ctx.strokeStyle = 'white'\n",
        "\n",
        "let isPainting = false\n",
        "let lineWidth = 10\n",
        "\n",
        "toolbar.addEventListener('change', e => {\n",
        "    if(e.target.id === 'stroke') {\n",
        "        ctx.strokeStyle = e.target.value;\n",
        "    }\n",
        "\n",
        "    if(e.target.id === 'lineWidth') {\n",
        "        lineWidth = e.target.value;\n",
        "    }\n",
        "})\n",
        "\n",
        "toolbar.addEventListener('click', e => {\n",
        "    if (e.target.id === 'clear-btn') {\n",
        "        ctx.clearRect(0, 0, canvas.width, canvas.height);\n",
        "    }\n",
        "})\n",
        "\n",
        "const draw = (e) => {\n",
        "    if(!isPainting) {\n",
        "        return;\n",
        "    }\n",
        "\n",
        "    ctx.lineWidth = lineWidth;\n",
        "    ctx.lineCap = 'round';\n",
        "\n",
        "    ctx.lineTo(e.offsetX, e.offsetY);\n",
        "    ctx.stroke();\n",
        "}\n",
        "\n",
        "canvas.addEventListener('mousedown', (e) => {\n",
        "    isPainting = true;\n",
        "    ctx.beginPath();\n",
        "})\n",
        "\n",
        "canvas.addEventListener('mouseup', e => {\n",
        "    isPainting = false;\n",
        "    ctx.stroke();\n",
        "    ctx.beginPath();\n",
        "})\n",
        "\n",
        "canvas.addEventListener('mousemove', draw);\n",
        "\n",
        "var data = new Promise(resolve => {\n",
        "  save_button.onclick = () => {\n",
        "    resolve(canvas.toDataURL('image/jpg'))\n",
        "    //resolve(save_btn_onclick())\n",
        "  }\n",
        "})\n",
        "\n",
        "function save_btn_onclick() {\n",
        "  canvas.toDataURL('image/jpg')\n",
        "}\n",
        "</script>\n",
        "\n",
        "<style>\n",
        "  #container {\n",
        "    height: 100%%;\n",
        "    display: flex;\n",
        "  }\n",
        "\n",
        "  #toolbar {\n",
        "    display: flex;\n",
        "    flex-direction: column;\n",
        "    padding: 10px;\n",
        "    width: 80px;\n",
        "    background-color: #202020;\n",
        "    margin-bottom: 5px;\n",
        "  }\n",
        "\n",
        "  #toolbar * {\n",
        "    margin-bottom: 6px;\n",
        "  }\n",
        "\n",
        "  #toolbar label {\n",
        "      font-size: 12px;\n",
        "  }\n",
        "\n",
        "  #toolbar input {\n",
        "      width: 100%%;\n",
        "  }\n",
        "\n",
        "  #toolbar button {\n",
        "      background-color: #1565c0;\n",
        "      border: none;\n",
        "      border-radius: 4px;\n",
        "      color:white;\n",
        "      padding: 5px;\n",
        "  }\n",
        "\n",
        "  #save-btn {\n",
        "    margin-top: 10px;\n",
        "  }\n",
        "\n",
        "  canvas {\n",
        "    border:1px solid black;\n",
        "    background-color: black;\n",
        "  }\n",
        "</style>\n",
        "\n",
        "<html>\n",
        "  <section id=\"container\">\n",
        "    <div id='toolbar'>\n",
        "      <label for=\"stroke\">Stroke</label>\n",
        "      <input id=\"stroke\" name='stroke' type=\"color\" value='#FFFFFF'>\n",
        "      <label for=\"lineWidth\">Line Width</label>\n",
        "      <input id=\"lineWidth\" name='lineWidth' type=\"number\" value=\"10\">\n",
        "      <button id='clear-btn'>Clear</button>\n",
        "      <button id='save-btn'>Save</button>\n",
        "    </div>\n",
        "    <div>\n",
        "      <canvas id=\"drawing-board\" width=%d height=%d></canvas>\n",
        "    </div>\n",
        "  </section>\n",
        "</html>\n",
        "'''\n",
        "\n",
        "display(HTML(js_code % (Image_Size, Image_Size)))\n",
        "data = eval_js(\"data\")\n",
        "\n",
        "binary = b64decode(data.split(',')[1])\n",
        "if AttributeError:\n",
        "  pass\n",
        "with open(Filename + '.png', 'wb') as f:\n",
        "  f.write(binary)\n",
        "print('Image saved to {}'.format(Filename + '.png'))"
      ],
      "metadata": {
        "cellView": "form",
        "colab": {
          "base_uri": "https://localhost:8080/",
          "height": 297
        },
        "id": "l5seJVwiQuGD",
        "outputId": "f61019af-a5b1-4297-d384-db39e0616c14"
      },
      "execution_count": 101,
      "outputs": [
        {
          "output_type": "display_data",
          "data": {
            "text/plain": [
              "<IPython.core.display.HTML object>"
            ],
            "text/html": [
              "\n",
              "<script>\n",
              "var toolbar = document.getElementById('toolbar')\n",
              "var save_button = document.getElementById('save-btn')\n",
              "var canvas = document.getElementById('drawing-board')\n",
              "var ctx = canvas.getContext('2d')\n",
              "ctx.strokeStyle = 'black'\n",
              "ctx.fillRect( 0, 0, canvas.width, canvas.height)\n",
              "ctx.strokeStyle = 'white'\n",
              "\n",
              "let isPainting = false\n",
              "let lineWidth = 10\n",
              "\n",
              "toolbar.addEventListener('change', e => {\n",
              "    if(e.target.id === 'stroke') {\n",
              "        ctx.strokeStyle = e.target.value;\n",
              "    }\n",
              "\n",
              "    if(e.target.id === 'lineWidth') {\n",
              "        lineWidth = e.target.value;\n",
              "    }\n",
              "})\n",
              "\n",
              "toolbar.addEventListener('click', e => {\n",
              "    if (e.target.id === 'clear-btn') {\n",
              "        ctx.clearRect(0, 0, canvas.width, canvas.height);\n",
              "    }\n",
              "})\n",
              "\n",
              "const draw = (e) => {\n",
              "    if(!isPainting) {\n",
              "        return;\n",
              "    }\n",
              "\n",
              "    ctx.lineWidth = lineWidth;\n",
              "    ctx.lineCap = 'round';\n",
              "\n",
              "    ctx.lineTo(e.offsetX, e.offsetY);\n",
              "    ctx.stroke();\n",
              "}\n",
              "\n",
              "canvas.addEventListener('mousedown', (e) => {\n",
              "    isPainting = true;\n",
              "    ctx.beginPath();\n",
              "})\n",
              "\n",
              "canvas.addEventListener('mouseup', e => {\n",
              "    isPainting = false;\n",
              "    ctx.stroke();\n",
              "    ctx.beginPath();\n",
              "})\n",
              "\n",
              "canvas.addEventListener('mousemove', draw);\n",
              "\n",
              "var data = new Promise(resolve => {\n",
              "  save_button.onclick = () => {\n",
              "    resolve(canvas.toDataURL('image/jpg'))\n",
              "    //resolve(save_btn_onclick())\n",
              "  }\n",
              "})\n",
              "\n",
              "function save_btn_onclick() {\n",
              "  canvas.toDataURL('image/jpg')\n",
              "}\n",
              "</script>\n",
              "\n",
              "<style>\n",
              "  #container {\n",
              "    height: 100%;\n",
              "    display: flex;\n",
              "  }\n",
              "\n",
              "  #toolbar {\n",
              "    display: flex;\n",
              "    flex-direction: column;\n",
              "    padding: 10px;\n",
              "    width: 80px;\n",
              "    background-color: #202020;\n",
              "    margin-bottom: 5px;\n",
              "  }\n",
              "\n",
              "  #toolbar * {\n",
              "    margin-bottom: 6px;\n",
              "  }\n",
              "\n",
              "  #toolbar label {\n",
              "      font-size: 12px;\n",
              "  }\n",
              "\n",
              "  #toolbar input {\n",
              "      width: 100%;\n",
              "  }\n",
              "\n",
              "  #toolbar button {\n",
              "      background-color: #1565c0;\n",
              "      border: none;\n",
              "      border-radius: 4px;\n",
              "      color:white;\n",
              "      padding: 5px;\n",
              "  }\n",
              "\n",
              "  #save-btn {\n",
              "    margin-top: 10px;\n",
              "  }\n",
              "\n",
              "  canvas {\n",
              "    border:1px solid black;\n",
              "    background-color: black;\n",
              "  }\n",
              "</style>\n",
              "\n",
              "<html>\n",
              "  <section id=\"container\">\n",
              "    <div id='toolbar'>\n",
              "      <label for=\"stroke\">Stroke</label>\n",
              "      <input id=\"stroke\" name='stroke' type=\"color\" value='#FFFFFF'>\n",
              "      <label for=\"lineWidth\">Line Width</label>\n",
              "      <input id=\"lineWidth\" name='lineWidth' type=\"number\" value=\"10\">\n",
              "      <button id='clear-btn'>Clear</button>\n",
              "      <button id='save-btn'>Save</button>\n",
              "    </div>\n",
              "    <div>\n",
              "      <canvas id=\"drawing-board\" width=256 height=256></canvas>\n",
              "    </div>\n",
              "  </section>\n",
              "</html>\n"
            ]
          },
          "metadata": {}
        },
        {
          "output_type": "stream",
          "name": "stdout",
          "text": [
            "Image saved to my_drawing.png\n"
          ]
        }
      ]
    },
    {
      "cell_type": "markdown",
      "source": [
        "#### 🔥 Download Model\n",
        "\n",
        "下載事先 training 完成的 <font color=\"F08080\">.pt</font> model"
      ],
      "metadata": {
        "id": "S7ktM2zX_gcc"
      }
    },
    {
      "cell_type": "code",
      "source": [
        "!gdown 1PmK9uWdODjvOCFETDIBGQw2ZqiGbf6Zd"
      ],
      "metadata": {
        "id": "lu32mVK_8dtd"
      },
      "execution_count": null,
      "outputs": []
    },
    {
      "cell_type": "markdown",
      "source": [
        "之前有說過 torch 存的只有 model 的相關參數 (weight)  \n",
        "因此我們需要先創建一個空的 model 架構  \n",
        "接著在把 weight 載入 model"
      ],
      "metadata": {
        "id": "jZbbwfCQDxOX"
      }
    },
    {
      "cell_type": "code",
      "source": [
        "model = MobileNetv1(in_channels=1, num_classes=10, width_multiplier=0.25)\n",
        "model.load_state_dict(torch.load('./mobilenet-v1-mnist-0.25-28.pt', map_location=device))\n",
        "model.to(device)"
      ],
      "metadata": {
        "colab": {
          "base_uri": "https://localhost:8080/"
        },
        "id": "mH4sqVa_x126",
        "outputId": "7facf57e-e25b-410c-a22f-ac4df61e1b56"
      },
      "execution_count": 51,
      "outputs": [
        {
          "output_type": "execute_result",
          "data": {
            "text/plain": [
              "MobileNetv1(\n",
              "  (layers): Sequential(\n",
              "    (0): StandardConv(\n",
              "      (conv): Sequential(\n",
              "        (0): Conv2d(1, 8, kernel_size=(3, 3), stride=(2, 2), padding=(1, 1), bias=False)\n",
              "        (1): BatchNorm2d(8, eps=1e-05, momentum=0.1, affine=True, track_running_stats=True)\n",
              "        (2): ReLU(inplace=True)\n",
              "      )\n",
              "    )\n",
              "    (1): DepthwiseSeparableConv(\n",
              "      (depthwise_conv): Sequential(\n",
              "        (0): Conv2d(8, 8, kernel_size=(3, 3), stride=(1, 1), padding=(1, 1), groups=8, bias=False)\n",
              "        (1): BatchNorm2d(8, eps=1e-05, momentum=0.1, affine=True, track_running_stats=True)\n",
              "        (2): ReLU(inplace=True)\n",
              "      )\n",
              "      (pointwise_conv): Sequential(\n",
              "        (0): Conv2d(8, 16, kernel_size=(1, 1), stride=(1, 1), bias=False)\n",
              "        (1): BatchNorm2d(16, eps=1e-05, momentum=0.1, affine=True, track_running_stats=True)\n",
              "        (2): ReLU(inplace=True)\n",
              "      )\n",
              "    )\n",
              "    (2): DepthwiseSeparableConv(\n",
              "      (depthwise_conv): Sequential(\n",
              "        (0): Conv2d(16, 16, kernel_size=(3, 3), stride=(2, 2), padding=(1, 1), groups=16, bias=False)\n",
              "        (1): BatchNorm2d(16, eps=1e-05, momentum=0.1, affine=True, track_running_stats=True)\n",
              "        (2): ReLU(inplace=True)\n",
              "      )\n",
              "      (pointwise_conv): Sequential(\n",
              "        (0): Conv2d(16, 32, kernel_size=(1, 1), stride=(1, 1), bias=False)\n",
              "        (1): BatchNorm2d(32, eps=1e-05, momentum=0.1, affine=True, track_running_stats=True)\n",
              "        (2): ReLU(inplace=True)\n",
              "      )\n",
              "    )\n",
              "    (3): DepthwiseSeparableConv(\n",
              "      (depthwise_conv): Sequential(\n",
              "        (0): Conv2d(32, 32, kernel_size=(3, 3), stride=(1, 1), padding=(1, 1), groups=32, bias=False)\n",
              "        (1): BatchNorm2d(32, eps=1e-05, momentum=0.1, affine=True, track_running_stats=True)\n",
              "        (2): ReLU(inplace=True)\n",
              "      )\n",
              "      (pointwise_conv): Sequential(\n",
              "        (0): Conv2d(32, 32, kernel_size=(1, 1), stride=(1, 1), bias=False)\n",
              "        (1): BatchNorm2d(32, eps=1e-05, momentum=0.1, affine=True, track_running_stats=True)\n",
              "        (2): ReLU(inplace=True)\n",
              "      )\n",
              "    )\n",
              "    (4): DepthwiseSeparableConv(\n",
              "      (depthwise_conv): Sequential(\n",
              "        (0): Conv2d(32, 32, kernel_size=(3, 3), stride=(2, 2), padding=(1, 1), groups=32, bias=False)\n",
              "        (1): BatchNorm2d(32, eps=1e-05, momentum=0.1, affine=True, track_running_stats=True)\n",
              "        (2): ReLU(inplace=True)\n",
              "      )\n",
              "      (pointwise_conv): Sequential(\n",
              "        (0): Conv2d(32, 64, kernel_size=(1, 1), stride=(1, 1), bias=False)\n",
              "        (1): BatchNorm2d(64, eps=1e-05, momentum=0.1, affine=True, track_running_stats=True)\n",
              "        (2): ReLU(inplace=True)\n",
              "      )\n",
              "    )\n",
              "    (5): DepthwiseSeparableConv(\n",
              "      (depthwise_conv): Sequential(\n",
              "        (0): Conv2d(64, 64, kernel_size=(3, 3), stride=(1, 1), padding=(1, 1), groups=64, bias=False)\n",
              "        (1): BatchNorm2d(64, eps=1e-05, momentum=0.1, affine=True, track_running_stats=True)\n",
              "        (2): ReLU(inplace=True)\n",
              "      )\n",
              "      (pointwise_conv): Sequential(\n",
              "        (0): Conv2d(64, 64, kernel_size=(1, 1), stride=(1, 1), bias=False)\n",
              "        (1): BatchNorm2d(64, eps=1e-05, momentum=0.1, affine=True, track_running_stats=True)\n",
              "        (2): ReLU(inplace=True)\n",
              "      )\n",
              "    )\n",
              "    (6): DepthwiseSeparableConv(\n",
              "      (depthwise_conv): Sequential(\n",
              "        (0): Conv2d(64, 64, kernel_size=(3, 3), stride=(2, 2), padding=(1, 1), groups=64, bias=False)\n",
              "        (1): BatchNorm2d(64, eps=1e-05, momentum=0.1, affine=True, track_running_stats=True)\n",
              "        (2): ReLU(inplace=True)\n",
              "      )\n",
              "      (pointwise_conv): Sequential(\n",
              "        (0): Conv2d(64, 128, kernel_size=(1, 1), stride=(1, 1), bias=False)\n",
              "        (1): BatchNorm2d(128, eps=1e-05, momentum=0.1, affine=True, track_running_stats=True)\n",
              "        (2): ReLU(inplace=True)\n",
              "      )\n",
              "    )\n",
              "    (7): DepthwiseSeparableConv(\n",
              "      (depthwise_conv): Sequential(\n",
              "        (0): Conv2d(128, 128, kernel_size=(3, 3), stride=(1, 1), padding=(1, 1), groups=128, bias=False)\n",
              "        (1): BatchNorm2d(128, eps=1e-05, momentum=0.1, affine=True, track_running_stats=True)\n",
              "        (2): ReLU(inplace=True)\n",
              "      )\n",
              "      (pointwise_conv): Sequential(\n",
              "        (0): Conv2d(128, 128, kernel_size=(1, 1), stride=(1, 1), bias=False)\n",
              "        (1): BatchNorm2d(128, eps=1e-05, momentum=0.1, affine=True, track_running_stats=True)\n",
              "        (2): ReLU(inplace=True)\n",
              "      )\n",
              "    )\n",
              "    (8): DepthwiseSeparableConv(\n",
              "      (depthwise_conv): Sequential(\n",
              "        (0): Conv2d(128, 128, kernel_size=(3, 3), stride=(1, 1), padding=(1, 1), groups=128, bias=False)\n",
              "        (1): BatchNorm2d(128, eps=1e-05, momentum=0.1, affine=True, track_running_stats=True)\n",
              "        (2): ReLU(inplace=True)\n",
              "      )\n",
              "      (pointwise_conv): Sequential(\n",
              "        (0): Conv2d(128, 128, kernel_size=(1, 1), stride=(1, 1), bias=False)\n",
              "        (1): BatchNorm2d(128, eps=1e-05, momentum=0.1, affine=True, track_running_stats=True)\n",
              "        (2): ReLU(inplace=True)\n",
              "      )\n",
              "    )\n",
              "    (9): DepthwiseSeparableConv(\n",
              "      (depthwise_conv): Sequential(\n",
              "        (0): Conv2d(128, 128, kernel_size=(3, 3), stride=(1, 1), padding=(1, 1), groups=128, bias=False)\n",
              "        (1): BatchNorm2d(128, eps=1e-05, momentum=0.1, affine=True, track_running_stats=True)\n",
              "        (2): ReLU(inplace=True)\n",
              "      )\n",
              "      (pointwise_conv): Sequential(\n",
              "        (0): Conv2d(128, 128, kernel_size=(1, 1), stride=(1, 1), bias=False)\n",
              "        (1): BatchNorm2d(128, eps=1e-05, momentum=0.1, affine=True, track_running_stats=True)\n",
              "        (2): ReLU(inplace=True)\n",
              "      )\n",
              "    )\n",
              "    (10): DepthwiseSeparableConv(\n",
              "      (depthwise_conv): Sequential(\n",
              "        (0): Conv2d(128, 128, kernel_size=(3, 3), stride=(1, 1), padding=(1, 1), groups=128, bias=False)\n",
              "        (1): BatchNorm2d(128, eps=1e-05, momentum=0.1, affine=True, track_running_stats=True)\n",
              "        (2): ReLU(inplace=True)\n",
              "      )\n",
              "      (pointwise_conv): Sequential(\n",
              "        (0): Conv2d(128, 128, kernel_size=(1, 1), stride=(1, 1), bias=False)\n",
              "        (1): BatchNorm2d(128, eps=1e-05, momentum=0.1, affine=True, track_running_stats=True)\n",
              "        (2): ReLU(inplace=True)\n",
              "      )\n",
              "    )\n",
              "    (11): DepthwiseSeparableConv(\n",
              "      (depthwise_conv): Sequential(\n",
              "        (0): Conv2d(128, 128, kernel_size=(3, 3), stride=(1, 1), padding=(1, 1), groups=128, bias=False)\n",
              "        (1): BatchNorm2d(128, eps=1e-05, momentum=0.1, affine=True, track_running_stats=True)\n",
              "        (2): ReLU(inplace=True)\n",
              "      )\n",
              "      (pointwise_conv): Sequential(\n",
              "        (0): Conv2d(128, 128, kernel_size=(1, 1), stride=(1, 1), bias=False)\n",
              "        (1): BatchNorm2d(128, eps=1e-05, momentum=0.1, affine=True, track_running_stats=True)\n",
              "        (2): ReLU(inplace=True)\n",
              "      )\n",
              "    )\n",
              "    (12): DepthwiseSeparableConv(\n",
              "      (depthwise_conv): Sequential(\n",
              "        (0): Conv2d(128, 128, kernel_size=(3, 3), stride=(2, 2), padding=(1, 1), groups=128, bias=False)\n",
              "        (1): BatchNorm2d(128, eps=1e-05, momentum=0.1, affine=True, track_running_stats=True)\n",
              "        (2): ReLU(inplace=True)\n",
              "      )\n",
              "      (pointwise_conv): Sequential(\n",
              "        (0): Conv2d(128, 256, kernel_size=(1, 1), stride=(1, 1), bias=False)\n",
              "        (1): BatchNorm2d(256, eps=1e-05, momentum=0.1, affine=True, track_running_stats=True)\n",
              "        (2): ReLU(inplace=True)\n",
              "      )\n",
              "    )\n",
              "    (13): DepthwiseSeparableConv(\n",
              "      (depthwise_conv): Sequential(\n",
              "        (0): Conv2d(256, 256, kernel_size=(3, 3), stride=(1, 1), padding=(1, 1), groups=256, bias=False)\n",
              "        (1): BatchNorm2d(256, eps=1e-05, momentum=0.1, affine=True, track_running_stats=True)\n",
              "        (2): ReLU(inplace=True)\n",
              "      )\n",
              "      (pointwise_conv): Sequential(\n",
              "        (0): Conv2d(256, 256, kernel_size=(1, 1), stride=(1, 1), bias=False)\n",
              "        (1): BatchNorm2d(256, eps=1e-05, momentum=0.1, affine=True, track_running_stats=True)\n",
              "        (2): ReLU(inplace=True)\n",
              "      )\n",
              "    )\n",
              "  )\n",
              "  (avg_pool): AdaptiveAvgPool2d(output_size=1)\n",
              "  (fc): Linear(in_features=256, out_features=10, bias=True)\n",
              ")"
            ]
          },
          "metadata": {},
          "execution_count": 51
        }
      ]
    },
    {
      "cell_type": "markdown",
      "source": [
        "下載事先 training 完成的 <font color=\"F08080\">.torchscript</font> model"
      ],
      "metadata": {
        "id": "DP_FKiNdEVrV"
      }
    },
    {
      "cell_type": "code",
      "source": [
        "!gdown 1vMEbKZ2ev7UStFcf0fsoIArQAMtpyIPU"
      ],
      "metadata": {
        "id": "E_qgGXELAtNv"
      },
      "execution_count": null,
      "outputs": []
    },
    {
      "cell_type": "markdown",
      "source": [
        "torchscipt 類型的 model 已經把架構存入檔案  \n",
        "因此我們只要利用 <font color=\"F08080\">torch.jit.load</font> 直接載入即可"
      ],
      "metadata": {
        "id": "bGm7Q_IsE7Fn"
      }
    },
    {
      "cell_type": "code",
      "source": [
        "script_model = torch.jit.load('./mobilenet-v1-mnist-0.25-28.torchscript')\n",
        "script_model.to(device)\n",
        "# print(scipt_model)\n",
        "# summary(_model, input_size=(1, 28, 28))"
      ],
      "metadata": {
        "colab": {
          "base_uri": "https://localhost:8080/"
        },
        "id": "leYqSQSvKlRb",
        "outputId": "179dde67-3ca9-49a2-812e-eaef70fcdc14"
      },
      "execution_count": 52,
      "outputs": [
        {
          "output_type": "execute_result",
          "data": {
            "text/plain": [
              "RecursiveScriptModule(\n",
              "  original_name=MobileNetv1\n",
              "  (layers): RecursiveScriptModule(\n",
              "    original_name=Sequential\n",
              "    (0): RecursiveScriptModule(\n",
              "      original_name=StandardConv\n",
              "      (conv): RecursiveScriptModule(\n",
              "        original_name=Sequential\n",
              "        (0): RecursiveScriptModule(original_name=Conv2d)\n",
              "        (1): RecursiveScriptModule(original_name=BatchNorm2d)\n",
              "        (2): RecursiveScriptModule(original_name=ReLU)\n",
              "      )\n",
              "    )\n",
              "    (1): RecursiveScriptModule(\n",
              "      original_name=DepthwiseSeparableConv\n",
              "      (depthwise_conv): RecursiveScriptModule(\n",
              "        original_name=Sequential\n",
              "        (0): RecursiveScriptModule(original_name=Conv2d)\n",
              "        (1): RecursiveScriptModule(original_name=BatchNorm2d)\n",
              "        (2): RecursiveScriptModule(original_name=ReLU)\n",
              "      )\n",
              "      (pointwise_conv): RecursiveScriptModule(\n",
              "        original_name=Sequential\n",
              "        (0): RecursiveScriptModule(original_name=Conv2d)\n",
              "        (1): RecursiveScriptModule(original_name=BatchNorm2d)\n",
              "        (2): RecursiveScriptModule(original_name=ReLU)\n",
              "      )\n",
              "    )\n",
              "    (2): RecursiveScriptModule(\n",
              "      original_name=DepthwiseSeparableConv\n",
              "      (depthwise_conv): RecursiveScriptModule(\n",
              "        original_name=Sequential\n",
              "        (0): RecursiveScriptModule(original_name=Conv2d)\n",
              "        (1): RecursiveScriptModule(original_name=BatchNorm2d)\n",
              "        (2): RecursiveScriptModule(original_name=ReLU)\n",
              "      )\n",
              "      (pointwise_conv): RecursiveScriptModule(\n",
              "        original_name=Sequential\n",
              "        (0): RecursiveScriptModule(original_name=Conv2d)\n",
              "        (1): RecursiveScriptModule(original_name=BatchNorm2d)\n",
              "        (2): RecursiveScriptModule(original_name=ReLU)\n",
              "      )\n",
              "    )\n",
              "    (3): RecursiveScriptModule(\n",
              "      original_name=DepthwiseSeparableConv\n",
              "      (depthwise_conv): RecursiveScriptModule(\n",
              "        original_name=Sequential\n",
              "        (0): RecursiveScriptModule(original_name=Conv2d)\n",
              "        (1): RecursiveScriptModule(original_name=BatchNorm2d)\n",
              "        (2): RecursiveScriptModule(original_name=ReLU)\n",
              "      )\n",
              "      (pointwise_conv): RecursiveScriptModule(\n",
              "        original_name=Sequential\n",
              "        (0): RecursiveScriptModule(original_name=Conv2d)\n",
              "        (1): RecursiveScriptModule(original_name=BatchNorm2d)\n",
              "        (2): RecursiveScriptModule(original_name=ReLU)\n",
              "      )\n",
              "    )\n",
              "    (4): RecursiveScriptModule(\n",
              "      original_name=DepthwiseSeparableConv\n",
              "      (depthwise_conv): RecursiveScriptModule(\n",
              "        original_name=Sequential\n",
              "        (0): RecursiveScriptModule(original_name=Conv2d)\n",
              "        (1): RecursiveScriptModule(original_name=BatchNorm2d)\n",
              "        (2): RecursiveScriptModule(original_name=ReLU)\n",
              "      )\n",
              "      (pointwise_conv): RecursiveScriptModule(\n",
              "        original_name=Sequential\n",
              "        (0): RecursiveScriptModule(original_name=Conv2d)\n",
              "        (1): RecursiveScriptModule(original_name=BatchNorm2d)\n",
              "        (2): RecursiveScriptModule(original_name=ReLU)\n",
              "      )\n",
              "    )\n",
              "    (5): RecursiveScriptModule(\n",
              "      original_name=DepthwiseSeparableConv\n",
              "      (depthwise_conv): RecursiveScriptModule(\n",
              "        original_name=Sequential\n",
              "        (0): RecursiveScriptModule(original_name=Conv2d)\n",
              "        (1): RecursiveScriptModule(original_name=BatchNorm2d)\n",
              "        (2): RecursiveScriptModule(original_name=ReLU)\n",
              "      )\n",
              "      (pointwise_conv): RecursiveScriptModule(\n",
              "        original_name=Sequential\n",
              "        (0): RecursiveScriptModule(original_name=Conv2d)\n",
              "        (1): RecursiveScriptModule(original_name=BatchNorm2d)\n",
              "        (2): RecursiveScriptModule(original_name=ReLU)\n",
              "      )\n",
              "    )\n",
              "    (6): RecursiveScriptModule(\n",
              "      original_name=DepthwiseSeparableConv\n",
              "      (depthwise_conv): RecursiveScriptModule(\n",
              "        original_name=Sequential\n",
              "        (0): RecursiveScriptModule(original_name=Conv2d)\n",
              "        (1): RecursiveScriptModule(original_name=BatchNorm2d)\n",
              "        (2): RecursiveScriptModule(original_name=ReLU)\n",
              "      )\n",
              "      (pointwise_conv): RecursiveScriptModule(\n",
              "        original_name=Sequential\n",
              "        (0): RecursiveScriptModule(original_name=Conv2d)\n",
              "        (1): RecursiveScriptModule(original_name=BatchNorm2d)\n",
              "        (2): RecursiveScriptModule(original_name=ReLU)\n",
              "      )\n",
              "    )\n",
              "    (7): RecursiveScriptModule(\n",
              "      original_name=DepthwiseSeparableConv\n",
              "      (depthwise_conv): RecursiveScriptModule(\n",
              "        original_name=Sequential\n",
              "        (0): RecursiveScriptModule(original_name=Conv2d)\n",
              "        (1): RecursiveScriptModule(original_name=BatchNorm2d)\n",
              "        (2): RecursiveScriptModule(original_name=ReLU)\n",
              "      )\n",
              "      (pointwise_conv): RecursiveScriptModule(\n",
              "        original_name=Sequential\n",
              "        (0): RecursiveScriptModule(original_name=Conv2d)\n",
              "        (1): RecursiveScriptModule(original_name=BatchNorm2d)\n",
              "        (2): RecursiveScriptModule(original_name=ReLU)\n",
              "      )\n",
              "    )\n",
              "    (8): RecursiveScriptModule(\n",
              "      original_name=DepthwiseSeparableConv\n",
              "      (depthwise_conv): RecursiveScriptModule(\n",
              "        original_name=Sequential\n",
              "        (0): RecursiveScriptModule(original_name=Conv2d)\n",
              "        (1): RecursiveScriptModule(original_name=BatchNorm2d)\n",
              "        (2): RecursiveScriptModule(original_name=ReLU)\n",
              "      )\n",
              "      (pointwise_conv): RecursiveScriptModule(\n",
              "        original_name=Sequential\n",
              "        (0): RecursiveScriptModule(original_name=Conv2d)\n",
              "        (1): RecursiveScriptModule(original_name=BatchNorm2d)\n",
              "        (2): RecursiveScriptModule(original_name=ReLU)\n",
              "      )\n",
              "    )\n",
              "    (9): RecursiveScriptModule(\n",
              "      original_name=DepthwiseSeparableConv\n",
              "      (depthwise_conv): RecursiveScriptModule(\n",
              "        original_name=Sequential\n",
              "        (0): RecursiveScriptModule(original_name=Conv2d)\n",
              "        (1): RecursiveScriptModule(original_name=BatchNorm2d)\n",
              "        (2): RecursiveScriptModule(original_name=ReLU)\n",
              "      )\n",
              "      (pointwise_conv): RecursiveScriptModule(\n",
              "        original_name=Sequential\n",
              "        (0): RecursiveScriptModule(original_name=Conv2d)\n",
              "        (1): RecursiveScriptModule(original_name=BatchNorm2d)\n",
              "        (2): RecursiveScriptModule(original_name=ReLU)\n",
              "      )\n",
              "    )\n",
              "    (10): RecursiveScriptModule(\n",
              "      original_name=DepthwiseSeparableConv\n",
              "      (depthwise_conv): RecursiveScriptModule(\n",
              "        original_name=Sequential\n",
              "        (0): RecursiveScriptModule(original_name=Conv2d)\n",
              "        (1): RecursiveScriptModule(original_name=BatchNorm2d)\n",
              "        (2): RecursiveScriptModule(original_name=ReLU)\n",
              "      )\n",
              "      (pointwise_conv): RecursiveScriptModule(\n",
              "        original_name=Sequential\n",
              "        (0): RecursiveScriptModule(original_name=Conv2d)\n",
              "        (1): RecursiveScriptModule(original_name=BatchNorm2d)\n",
              "        (2): RecursiveScriptModule(original_name=ReLU)\n",
              "      )\n",
              "    )\n",
              "    (11): RecursiveScriptModule(\n",
              "      original_name=DepthwiseSeparableConv\n",
              "      (depthwise_conv): RecursiveScriptModule(\n",
              "        original_name=Sequential\n",
              "        (0): RecursiveScriptModule(original_name=Conv2d)\n",
              "        (1): RecursiveScriptModule(original_name=BatchNorm2d)\n",
              "        (2): RecursiveScriptModule(original_name=ReLU)\n",
              "      )\n",
              "      (pointwise_conv): RecursiveScriptModule(\n",
              "        original_name=Sequential\n",
              "        (0): RecursiveScriptModule(original_name=Conv2d)\n",
              "        (1): RecursiveScriptModule(original_name=BatchNorm2d)\n",
              "        (2): RecursiveScriptModule(original_name=ReLU)\n",
              "      )\n",
              "    )\n",
              "    (12): RecursiveScriptModule(\n",
              "      original_name=DepthwiseSeparableConv\n",
              "      (depthwise_conv): RecursiveScriptModule(\n",
              "        original_name=Sequential\n",
              "        (0): RecursiveScriptModule(original_name=Conv2d)\n",
              "        (1): RecursiveScriptModule(original_name=BatchNorm2d)\n",
              "        (2): RecursiveScriptModule(original_name=ReLU)\n",
              "      )\n",
              "      (pointwise_conv): RecursiveScriptModule(\n",
              "        original_name=Sequential\n",
              "        (0): RecursiveScriptModule(original_name=Conv2d)\n",
              "        (1): RecursiveScriptModule(original_name=BatchNorm2d)\n",
              "        (2): RecursiveScriptModule(original_name=ReLU)\n",
              "      )\n",
              "    )\n",
              "    (13): RecursiveScriptModule(\n",
              "      original_name=DepthwiseSeparableConv\n",
              "      (depthwise_conv): RecursiveScriptModule(\n",
              "        original_name=Sequential\n",
              "        (0): RecursiveScriptModule(original_name=Conv2d)\n",
              "        (1): RecursiveScriptModule(original_name=BatchNorm2d)\n",
              "        (2): RecursiveScriptModule(original_name=ReLU)\n",
              "      )\n",
              "      (pointwise_conv): RecursiveScriptModule(\n",
              "        original_name=Sequential\n",
              "        (0): RecursiveScriptModule(original_name=Conv2d)\n",
              "        (1): RecursiveScriptModule(original_name=BatchNorm2d)\n",
              "        (2): RecursiveScriptModule(original_name=ReLU)\n",
              "      )\n",
              "    )\n",
              "  )\n",
              "  (avg_pool): RecursiveScriptModule(original_name=AdaptiveAvgPool2d)\n",
              "  (fc): RecursiveScriptModule(original_name=Linear)\n",
              ")"
            ]
          },
          "metadata": {},
          "execution_count": 52
        }
      ]
    },
    {
      "cell_type": "markdown",
      "source": [
        "#### 🔥 Predict"
      ],
      "metadata": {
        "id": "dzC75Qk9FTtK"
      }
    },
    {
      "cell_type": "markdown",
      "source": [
        "先載入剛剛我們自己畫的圖片"
      ],
      "metadata": {
        "id": "vswiDnBfFlMi"
      }
    },
    {
      "cell_type": "code",
      "source": [
        "import numpy as np\n",
        "from PIL import Image\n",
        "import matplotlib.pyplot as plt\n",
        "\n",
        "image = Image.open('./my_drawing.png').convert('L')\n",
        "plt.imshow(image, cmap='gray')\n",
        "plt.show()"
      ],
      "metadata": {
        "colab": {
          "base_uri": "https://localhost:8080/",
          "height": 435
        },
        "id": "AhY9TPqVFqJK",
        "outputId": "c88ccd38-9003-4e8c-d67b-7d37fc6cf3c3"
      },
      "execution_count": 102,
      "outputs": [
        {
          "output_type": "display_data",
          "data": {
            "text/plain": [
              "<Figure size 640x480 with 1 Axes>"
            ],
            "image/png": "[encoded data removed]"
          },
          "metadata": {}
        }
      ]
    },
    {
      "cell_type": "markdown",
      "source": [
        "建立 predict 用的 transforms"
      ],
      "metadata": {
        "id": "SYHUrRS5F3al"
      }
    },
    {
      "cell_type": "code",
      "source": [
        "import torchvision.transforms as transforms\n",
        "\n",
        "transform = transforms.Compose([\n",
        "    transforms.Resize((28, 28)),\n",
        "    transforms.ToTensor(),\n",
        "    transforms.Normalize((0.5,), (0.5,))\n",
        "])"
      ],
      "metadata": {
        "id": "tqbQhNoLF16e"
      },
      "execution_count": 103,
      "outputs": []
    },
    {
      "cell_type": "code",
      "source": [
        "image = transform(image).unsqueeze(0)\n",
        "image = image.to(device)"
      ],
      "metadata": {
        "id": "CiJfDLbfGUfb"
      },
      "execution_count": 104,
      "outputs": []
    },
    {
      "cell_type": "markdown",
      "source": [
        "利用 <font color=\"F08080\">.pt</font> model 做 predict"
      ],
      "metadata": {
        "id": "VsF3ZsnDII_N"
      }
    },
    {
      "cell_type": "code",
      "source": [
        "model.eval()\n",
        "outputs = model(image)[0]\n",
        "print(outputs.data)"
      ],
      "metadata": {
        "colab": {
          "base_uri": "https://localhost:8080/"
        },
        "id": "VI1jEqNkG4t5",
        "outputId": "1a1e8974-c605-4120-b4ab-220ecf9fc5d5"
      },
      "execution_count": 105,
      "outputs": [
        {
          "output_type": "stream",
          "name": "stdout",
          "text": [
            "tensor([ 0.6831, -1.7815,  5.2089, -0.1366, -1.4186, -0.2610, -1.8074, -0.9600,\n",
            "         1.4861, -1.1512], device='cuda:0')\n"
          ]
        }
      ]
    },
    {
      "cell_type": "markdown",
      "source": [
        "利用 [torch.max](https://pytorch.org/docs/stable/generated/torch.max.html) 來做 outputs 分析，找出最大值的 index"
      ],
      "metadata": {
        "id": "UO4cQh0OIf03"
      }
    },
    {
      "cell_type": "code",
      "source": [
        "_, predict_result = torch.max(outputs.data, 0)\n",
        "print(predict_result)"
      ],
      "metadata": {
        "colab": {
          "base_uri": "https://localhost:8080/"
        },
        "id": "SR7syY9HI0J7",
        "outputId": "404f2e07-670e-4ed0-be35-3e03e9d2e5e5"
      },
      "execution_count": 106,
      "outputs": [
        {
          "output_type": "stream",
          "name": "stdout",
          "text": [
            "tensor(2, device='cuda:0')\n"
          ]
        }
      ]
    }
  ]
}